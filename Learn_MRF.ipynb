{
 "cells": [
  {
   "cell_type": "code",
   "execution_count": 1,
   "metadata": {},
   "outputs": [
    {
     "name": "stderr",
     "output_type": "stream",
     "text": [
      "Detecting 1 CUDA devices.\n"
     ]
    }
   ],
   "source": [
    "from cdt.independence.graph import Glasso\n",
    "import pickle\n",
    "import numpy as np\n",
    "import pandas as pd\n",
    "import networkx as nx\n",
    "from tqdm import tqdm_notebook\n",
    "import matplotlib.pyplot as plt\n",
    "import numpy.linalg as la\n",
    "from sklearn.covariance import EmpiricalCovariance, graphical_lasso, GraphicalLassoCV"
   ]
  },
  {
   "cell_type": "code",
   "execution_count": 2,
   "metadata": {},
   "outputs": [],
   "source": [
    "with open('data/data_fill.pkl','rb') as f:\n",
    "    data_fill_list = pickle.load(f)\n",
    "\n",
    "    "
   ]
  },
  {
   "cell_type": "code",
   "execution_count": 3,
   "metadata": {},
   "outputs": [
    {
     "data": {
      "application/vnd.jupyter.widget-view+json": {
       "model_id": "c3a802d907304730b52c3104ba30b735",
       "version_major": 2,
       "version_minor": 0
      },
      "text/plain": [
       "HBox(children=(IntProgress(value=0, max=10), HTML(value='')))"
      ]
     },
     "metadata": {},
     "output_type": "display_data"
    },
    {
     "name": "stderr",
     "output_type": "stream",
     "text": [
      "Class GraphLasso is deprecated; The 'GraphLasso' was renamed to 'GraphicalLasso' in version 0.20 and will be removed in 0.22.\n",
      "Class GraphLasso is deprecated; The 'GraphLasso' was renamed to 'GraphicalLasso' in version 0.20 and will be removed in 0.22.\n",
      "Class GraphLasso is deprecated; The 'GraphLasso' was renamed to 'GraphicalLasso' in version 0.20 and will be removed in 0.22.\n",
      "invalid value encountered in multiply\n",
      "invalid value encountered in multiply\n",
      "graphical_lasso: did not converge after 100 iteration: dual gap: -3.493e-04\n",
      "Class GraphLasso is deprecated; The 'GraphLasso' was renamed to 'GraphicalLasso' in version 0.20 and will be removed in 0.22.\n",
      "graphical_lasso: did not converge after 2000 iteration: dual gap: -3.808e-04\n",
      "Class GraphLasso is deprecated; The 'GraphLasso' was renamed to 'GraphicalLasso' in version 0.20 and will be removed in 0.22.\n",
      "invalid value encountered in multiply\n",
      "invalid value encountered in multiply\n",
      "Class GraphLasso is deprecated; The 'GraphLasso' was renamed to 'GraphicalLasso' in version 0.20 and will be removed in 0.22.\n",
      "invalid value encountered in multiply\n",
      "invalid value encountered in multiply\n",
      "graphical_lasso: did not converge after 100 iteration: dual gap: -3.822e-04\n",
      "Class GraphLasso is deprecated; The 'GraphLasso' was renamed to 'GraphicalLasso' in version 0.20 and will be removed in 0.22.\n",
      "graphical_lasso: did not converge after 2000 iteration: dual gap: -3.762e-04\n",
      "graphical_lasso: did not converge after 100 iteration: dual gap: -3.731e-04\n",
      "Class GraphLasso is deprecated; The 'GraphLasso' was renamed to 'GraphicalLasso' in version 0.20 and will be removed in 0.22.\n",
      "graphical_lasso: did not converge after 2000 iteration: dual gap: -3.522e-04\n",
      "invalid value encountered in multiply\n",
      "invalid value encountered in multiply\n",
      "graphical_lasso: did not converge after 100 iteration: dual gap: -1.893e-04\n",
      "Class GraphLasso is deprecated; The 'GraphLasso' was renamed to 'GraphicalLasso' in version 0.20 and will be removed in 0.22.\n",
      "graphical_lasso: did not converge after 2000 iteration: dual gap: -2.160e-04\n",
      "invalid value encountered in multiply\n",
      "invalid value encountered in multiply\n"
     ]
    },
    {
     "name": "stdout",
     "output_type": "stream",
     "text": [
      "\n"
     ]
    },
    {
     "name": "stderr",
     "output_type": "stream",
     "text": [
      "Class GraphLasso is deprecated; The 'GraphLasso' was renamed to 'GraphicalLasso' in version 0.20 and will be removed in 0.22.\n"
     ]
    }
   ],
   "source": [
    "emp = EmpiricalCovariance()\n",
    "lambdas_lst = []\n",
    "MRFs_list = []\n",
    "gl = Glasso()\n",
    "for data_fill in tqdm_notebook(data_fill_list):\n",
    "    emp.fit(data_fill)\n",
    "    cov = emp.covariance_\n",
    "    gcv = GraphicalLassoCV(cv = 5, alphas = 20)\n",
    "    gcv.fit(data_fill.values)\n",
    "    ind_best = gcv.grid_scores_.mean(1).argmax()\n",
    "    lambda_best = gcv.cv_alphas_[ind_best]\n",
    "    lambdas_lst.append(lambda_best)\n",
    "    graph = gl.predict(data_fill, alpha = lambda_best)\n",
    "    mat = nx.adjacency_matrix(graph).todense()\n",
    "    MRFs_list.append(mat)\n",
    "    "
   ]
  },
  {
   "cell_type": "code",
   "execution_count": 4,
   "metadata": {},
   "outputs": [
    {
     "data": {
      "text/plain": [
       "[0.00031177459992035315,\n",
       " 0.0003120027677594686,\n",
       " 0.00036466934789028237,\n",
       " 0.0003009922999970166,\n",
       " 0.0004042770624633552,\n",
       " 0.00027469305997067584,\n",
       " 0.00028424426095008214,\n",
       " 0.00034015639325209515,\n",
       " 0.0003404713451451764,\n",
       " 0.00050495425665279]"
      ]
     },
     "execution_count": 4,
     "metadata": {},
     "output_type": "execute_result"
    }
   ],
   "source": [
    "lambdas_lst"
   ]
  },
  {
   "cell_type": "code",
   "execution_count": 5,
   "metadata": {},
   "outputs": [
    {
     "data": {
      "text/plain": [
       "<matplotlib.colorbar.Colorbar at 0x7ffb30066048>"
      ]
     },
     "execution_count": 5,
     "metadata": {},
     "output_type": "execute_result"
    },
    {
     "data": {
      "image/png": "[encoded data removed]",
      "text/plain": [
       "<Figure size 432x288 with 2 Axes>"
      ]
     },
     "metadata": {
      "needs_background": "light"
     },
     "output_type": "display_data"
    }
   ],
   "source": [
    "freqs = (np.array(MRFs_list)>0).mean(0)\n",
    "plt.imshow(freqs,cmap='jet')\n",
    "plt.colorbar()"
   ]
  },
  {
   "cell_type": "code",
   "execution_count": 6,
   "metadata": {},
   "outputs": [
    {
     "data": {
      "text/plain": [
       "<matplotlib.image.AxesImage at 0x7ffb0da9f0f0>"
      ]
     },
     "execution_count": 6,
     "metadata": {},
     "output_type": "execute_result"
    },
    {
     "data": {
      "image/png": "[encoded data removed]",
      "text/plain": [
       "<Figure size 432x288 with 1 Axes>"
      ]
     },
     "metadata": {
      "needs_background": "light"
     },
     "output_type": "display_data"
    }
   ],
   "source": [
    "mrf_tot = (freqs>=.5).astype(int)\n",
    "plt.imshow(mrf_tot)"
   ]
  },
  {
   "cell_type": "code",
   "execution_count": 7,
   "metadata": {},
   "outputs": [
    {
     "name": "stdout",
     "output_type": "stream",
     "text": [
      "Alabama, Arizona\n",
      "Alabama, Colorado\n",
      "Alabama, Indiana\n",
      "Alabama, Maine\n",
      "Alabama, Missouri\n",
      "Alabama, Montana\n",
      "Alabama, Oregon\n",
      "Alabama, Texas\n",
      "Alabama, Utah\n",
      "Alabama, Washington\n",
      "Alabama, Wisconsin\n",
      "Alabama, Wyoming\n",
      "Alaska, Georgia\n",
      "Alaska, South Dakota\n",
      "Arkansas, District of Columbia\n",
      "Arkansas, Maine\n",
      "Arkansas, Oregon\n",
      "California, Colorado\n",
      "California, Indiana\n",
      "California, Kansas\n",
      "California, Montana\n",
      "California, Oregon\n",
      "California, Texas\n",
      "California, Washington\n",
      "Colorado, West Virginia\n",
      "District of Columbia, Iowa\n",
      "District of Columbia, Kansas\n",
      "District of Columbia, Kentucky\n",
      "District of Columbia, Minnesota\n",
      "District of Columbia, Missouri\n",
      "District of Columbia, Oklahoma\n",
      "District of Columbia, Vermont\n",
      "District of Columbia, West Virginia\n",
      "District of Columbia, Wisconsin\n",
      "District of Columbia, Wyoming\n",
      "Florida, Kansas\n",
      "Florida, Montana\n",
      "Georgia, Kansas\n",
      "Idaho, West Virginia\n",
      "Illinois, Kansas\n",
      "Illinois, Montana\n",
      "Illinois, Washington\n",
      "Indiana, South Carolina\n",
      "Kansas, Mississippi\n",
      "Kansas, New Jersey\n",
      "Kansas, New York\n",
      "Kansas, South Carolina\n",
      "Kentucky, Maryland\n",
      "Kentucky, Mississippi\n",
      "Louisiana, Rhode Island\n",
      "Louisiana, South Dakota\n",
      "Maine, Montana\n",
      "Maryland, South Dakota\n",
      "Maryland, West Virginia\n",
      "Massachusetts, West Virginia\n",
      "Mississippi, Missouri\n",
      "Mississippi, Oklahoma\n",
      "Mississippi, Vermont\n",
      "Mississippi, West Virginia\n",
      "Montana, New York\n",
      "Montana, North Carolina\n",
      "New Hampshire, Utah\n",
      "New Jersey, South Dakota\n",
      "North Carolina, South Dakota\n",
      "North Dakota, Rhode Island\n",
      "Oregon, West Virginia\n",
      "Rhode Island, West Virginia\n",
      "Rhode Island, Wyoming\n",
      "South Dakota, Vermont\n",
      "Tennessee, West Virginia\n",
      "Texas, West Virginia\n",
      "Utah, West Virginia\n"
     ]
    }
   ],
   "source": [
    "#Check out off diagonal ones\n",
    "ones = np.argwhere(mrf_tot)\n",
    "for one in ones:\n",
    "    if one[0] >= one[1]:\n",
    "        continue\n",
    "    #only get one triangle\n",
    "    else:\n",
    "        first = data_fill.columns[one[0]]\n",
    "        second = data_fill.columns[one[1]]\n",
    "        print('{}, {}'.format(first,second))"
   ]
  },
  {
   "cell_type": "code",
   "execution_count": 8,
   "metadata": {},
   "outputs": [],
   "source": [
    "mrf_final = np.array(MRFs_list).mean(0)*mrf_tot"
   ]
  },
  {
   "cell_type": "code",
   "execution_count": 9,
   "metadata": {},
   "outputs": [],
   "source": [
    "MRF = pd.DataFrame(mrf_final, index = data_fill_list[0].columns, columns=data_fill_list[0].columns)\n",
    "MRF.to_csv('data/MRF.csv')"
   ]
  }
 ],
 "metadata": {
  "kernelspec": {
   "display_name": "Python [conda env:Tutorial]",
   "language": "python",
   "name": "conda-env-Tutorial-py"
  },
  "language_info": {
   "codemirror_mode": {
    "name": "ipython",
    "version": 3
   },
   "file_extension": ".py",
   "mimetype": "text/x-python",
   "name": "python",
   "nbconvert_exporter": "python",
   "pygments_lexer": "ipython3",
   "version": "3.6.8"
  }
 },
 "nbformat": 4,
 "nbformat_minor": 2
}
