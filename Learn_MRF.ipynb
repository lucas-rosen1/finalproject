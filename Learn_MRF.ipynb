{
 "cells": [
  {
   "cell_type": "code",
   "execution_count": 1,
   "metadata": {},
   "outputs": [
    {
     "name": "stderr",
     "output_type": "stream",
     "text": [
      "Detecting 1 CUDA devices.\n"
     ]
    }
   ],
   "source": [
    "from cdt.independence.graph import Glasso\n",
    "from sklearn.linear_model import LinearRegression\n",
    "from sklearn.metrics import mean_squared_error\n",
    "import numpy.linalg as la\n",
    "from sklearn.covariance import EmpiricalCovariance, graphical_lasso, GraphicalLassoCV\n",
    "import pickle\n",
    "import numpy as np\n",
    "import pandas as pd\n",
    "from tqdm import tqdm_notebook\n",
    "import networkx as nx\n",
    "import matplotlib.pyplot as plt"
   ]
  },
  {
   "cell_type": "code",
   "execution_count": 2,
   "metadata": {},
   "outputs": [],
   "source": [
    "with open('data/data_fill.pkl','rb') as f:\n",
    "    data_fill_list = pickle.load(f)\n",
    "\n",
    "    "
   ]
  },
  {
   "cell_type": "code",
   "execution_count": 3,
   "metadata": {},
   "outputs": [
    {
     "data": {
      "application/vnd.jupyter.widget-view+json": {
       "model_id": "2bb769d151b549b29c8fb6df522dcf27",
       "version_major": 2,
       "version_minor": 0
      },
      "text/plain": [
       "HBox(children=(IntProgress(value=0, max=10), HTML(value='')))"
      ]
     },
     "metadata": {},
     "output_type": "display_data"
    },
    {
     "name": "stderr",
     "output_type": "stream",
     "text": [
      "graphical_lasso: did not converge after 100 iteration: dual gap: -1.754e-04\n",
      "Class GraphLasso is deprecated; The 'GraphLasso' was renamed to 'GraphicalLasso' in version 0.20 and will be removed in 0.22.\n",
      "graphical_lasso: did not converge after 2000 iteration: dual gap: -1.435e-04\n",
      "invalid value encountered in multiply\n",
      "invalid value encountered in multiply\n",
      "Class GraphLasso is deprecated; The 'GraphLasso' was renamed to 'GraphicalLasso' in version 0.20 and will be removed in 0.22.\n",
      "Class GraphLasso is deprecated; The 'GraphLasso' was renamed to 'GraphicalLasso' in version 0.20 and will be removed in 0.22.\n",
      "invalid value encountered in multiply\n",
      "invalid value encountered in multiply\n",
      "Class GraphLasso is deprecated; The 'GraphLasso' was renamed to 'GraphicalLasso' in version 0.20 and will be removed in 0.22.\n",
      "Class GraphLasso is deprecated; The 'GraphLasso' was renamed to 'GraphicalLasso' in version 0.20 and will be removed in 0.22.\n",
      "Class GraphLasso is deprecated; The 'GraphLasso' was renamed to 'GraphicalLasso' in version 0.20 and will be removed in 0.22.\n",
      "invalid value encountered in multiply\n",
      "invalid value encountered in multiply\n",
      "Class GraphLasso is deprecated; The 'GraphLasso' was renamed to 'GraphicalLasso' in version 0.20 and will be removed in 0.22.\n",
      "graphical_lasso: did not converge after 100 iteration: dual gap: -1.981e-04\n",
      "Class GraphLasso is deprecated; The 'GraphLasso' was renamed to 'GraphicalLasso' in version 0.20 and will be removed in 0.22.\n",
      "graphical_lasso: did not converge after 2000 iteration: dual gap: -1.884e-04\n",
      "Class GraphLasso is deprecated; The 'GraphLasso' was renamed to 'GraphicalLasso' in version 0.20 and will be removed in 0.22.\n"
     ]
    },
    {
     "name": "stdout",
     "output_type": "stream",
     "text": [
      "\n"
     ]
    },
    {
     "name": "stderr",
     "output_type": "stream",
     "text": [
      "Class GraphLasso is deprecated; The 'GraphLasso' was renamed to 'GraphicalLasso' in version 0.20 and will be removed in 0.22.\n"
     ]
    }
   ],
   "source": [
    "## Glasso\n",
    "emp = EmpiricalCovariance()\n",
    "mrfs_list = []\n",
    "lambda_list = []\n",
    "## Do lambda search on each and choose best\n",
    "for data_fill in tqdm_notebook(data_fill_list):\n",
    "    emp.fit(data_fill)\n",
    "    cov = emp.covariance_\n",
    "    ## Use CV to find best\n",
    "    gcv = GraphicalLassoCV(cv = 3, alphas = 20)\n",
    "    gcv.fit(data_fill.values)\n",
    "    ind_best = gcv.grid_scores_.mean(1).argmax()\n",
    "    lambda_best = gcv.cv_alphas_[ind_best]\n",
    "    gl = Glasso()\n",
    "    graph = gl.predict(data_fill, alpha = lambda_best)\n",
    "    mrf = nx.adjacency_matrix(graph).todense()\n",
    "    mrfs_list.append(mrf)\n",
    "    lambda_list.append(lambda_best)"
   ]
  },
  {
   "cell_type": "code",
   "execution_count": 4,
   "metadata": {},
   "outputs": [
    {
     "data": {
      "text/plain": [
       "[0.00043163344765013203,\n",
       " 0.0003881836458753304,\n",
       " 0.0004281641971722109,\n",
       " 0.00041478525100599613,\n",
       " 0.0003510040384788285,\n",
       " 0.0008174359427550247,\n",
       " 0.0006459065397757844,\n",
       " 0.0003226304572870879,\n",
       " 0.0003620051920471542,\n",
       " 0.0006540362246050728]"
      ]
     },
     "execution_count": 4,
     "metadata": {},
     "output_type": "execute_result"
    }
   ],
   "source": [
    "lambda_list"
   ]
  },
  {
   "cell_type": "code",
   "execution_count": 5,
   "metadata": {},
   "outputs": [
    {
     "data": {
      "text/plain": [
       "<matplotlib.colorbar.Colorbar at 0x7f256151f080>"
      ]
     },
     "execution_count": 5,
     "metadata": {},
     "output_type": "execute_result"
    },
    {
     "data": {
      "image/png": "[encoded data removed]",
      "text/plain": [
       "<Figure size 432x288 with 2 Axes>"
      ]
     },
     "metadata": {
      "needs_background": "light"
     },
     "output_type": "display_data"
    }
   ],
   "source": [
    "freqs = np.array([mrf.astype(bool) for mrf in mrfs_list]).mean(0)\n",
    "plt.imshow(freqs,cmap='jet')\n",
    "plt.colorbar()"
   ]
  },
  {
   "cell_type": "code",
   "execution_count": 6,
   "metadata": {},
   "outputs": [
    {
     "data": {
      "text/plain": [
       "<matplotlib.image.AxesImage at 0x7f25614cd048>"
      ]
     },
     "execution_count": 6,
     "metadata": {},
     "output_type": "execute_result"
    },
    {
     "data": {
      "image/png": "[encoded data removed]",
      "text/plain": [
       "<Figure size 432x288 with 1 Axes>"
      ]
     },
     "metadata": {
      "needs_background": "light"
     },
     "output_type": "display_data"
    }
   ],
   "source": [
    "mrf_tot = (freqs>=.5).astype(int)\n",
    "plt.imshow(mrf_tot)"
   ]
  },
  {
   "cell_type": "code",
   "execution_count": 7,
   "metadata": {},
   "outputs": [
    {
     "name": "stdout",
     "output_type": "stream",
     "text": [
      "Alabama, Arizona\n",
      "Alabama, California\n",
      "Alabama, Colorado\n",
      "Alabama, District of Columbia\n",
      "Alabama, Idaho\n",
      "Alabama, Illinois\n",
      "Alabama, Indiana\n",
      "Alabama, Kansas\n",
      "Alabama, Maine\n",
      "Alabama, Missouri\n",
      "Alabama, Montana\n",
      "Alabama, New York\n",
      "Alabama, Oregon\n",
      "Alabama, South Dakota\n",
      "Alabama, Utah\n",
      "Alabama, West Virginia\n",
      "Alabama, Wisconsin\n",
      "Alaska, District of Columbia\n",
      "Alaska, Georgia\n",
      "Alaska, Hawaii\n",
      "Alaska, Kentucky\n",
      "Alaska, Maine\n",
      "Alaska, Nebraska\n",
      "Alaska, New Hampshire\n",
      "Alaska, New Mexico\n",
      "Alaska, North Dakota\n",
      "Alaska, Vermont\n",
      "Arizona, Kansas\n",
      "Arkansas, District of Columbia\n",
      "Arkansas, Maine\n",
      "California, District of Columbia\n",
      "California, Illinois\n",
      "California, Indiana\n",
      "California, Kansas\n",
      "California, Montana\n",
      "California, Ohio\n",
      "California, Texas\n",
      "Colorado, District of Columbia\n",
      "Colorado, Kansas\n",
      "Colorado, Utah\n",
      "Colorado, West Virginia\n",
      "Delaware, District of Columbia\n",
      "Delaware, Illinois\n",
      "Delaware, South Dakota\n",
      "District of Columbia, Florida\n",
      "District of Columbia, Georgia\n",
      "District of Columbia, Illinois\n",
      "District of Columbia, Iowa\n",
      "District of Columbia, Kansas\n",
      "District of Columbia, Kentucky\n",
      "District of Columbia, Louisiana\n",
      "District of Columbia, Maryland\n",
      "District of Columbia, Massachusetts\n",
      "District of Columbia, Minnesota\n",
      "District of Columbia, Mississippi\n",
      "District of Columbia, Missouri\n",
      "District of Columbia, Montana\n",
      "District of Columbia, Nevada\n",
      "District of Columbia, New Jersey\n",
      "District of Columbia, New York\n",
      "District of Columbia, North Carolina\n",
      "District of Columbia, Oklahoma\n",
      "District of Columbia, Pennsylvania\n",
      "District of Columbia, South Carolina\n",
      "District of Columbia, South Dakota\n",
      "District of Columbia, Tennessee\n",
      "District of Columbia, Vermont\n",
      "District of Columbia, West Virginia\n",
      "District of Columbia, Wisconsin\n",
      "District of Columbia, Wyoming\n",
      "Florida, Kansas\n",
      "Florida, Montana\n",
      "Idaho, Kansas\n",
      "Idaho, Montana\n",
      "Idaho, New Hampshire\n",
      "Idaho, Rhode Island\n",
      "Idaho, West Virginia\n",
      "Illinois, Kansas\n",
      "Illinois, Montana\n",
      "Illinois, Ohio\n",
      "Illinois, West Virginia\n",
      "Indiana, Iowa\n",
      "Indiana, Kansas\n",
      "Indiana, New Mexico\n",
      "Indiana, South Carolina\n",
      "Indiana, Utah\n",
      "Indiana, Wisconsin\n",
      "Iowa, Kentucky\n",
      "Iowa, Nebraska\n",
      "Iowa, South Dakota\n",
      "Iowa, Wyoming\n",
      "Kansas, Kentucky\n",
      "Kansas, Mississippi\n",
      "Kansas, Missouri\n",
      "Kansas, Montana\n",
      "Kansas, New Jersey\n",
      "Kansas, New York\n",
      "Kansas, Oklahoma\n",
      "Kansas, Rhode Island\n",
      "Kansas, South Carolina\n",
      "Kansas, Wisconsin\n",
      "Kentucky, Mississippi\n",
      "Kentucky, Missouri\n",
      "Kentucky, Nebraska\n",
      "Kentucky, Oklahoma\n",
      "Kentucky, South Dakota\n",
      "Kentucky, West Virginia\n",
      "Kentucky, Wyoming\n",
      "Maine, New Hampshire\n",
      "Maine, Vermont\n",
      "Maryland, South Dakota\n",
      "Maryland, West Virginia\n",
      "Massachusetts, West Virginia\n",
      "Mississippi, Missouri\n",
      "Mississippi, Oklahoma\n",
      "Mississippi, West Virginia\n",
      "Missouri, Montana\n",
      "Missouri, Nebraska\n",
      "Montana, North Carolina\n",
      "Montana, South Dakota\n",
      "Montana, Utah\n",
      "Montana, Wyoming\n",
      "Nebraska, Wyoming\n",
      "New Hampshire, Utah\n",
      "New Hampshire, Vermont\n",
      "New Jersey, South Dakota\n",
      "North Dakota, Rhode Island\n",
      "North Dakota, West Virginia\n",
      "Oregon, West Virginia\n",
      "Rhode Island, South Dakota\n",
      "Rhode Island, Vermont\n",
      "Rhode Island, West Virginia\n",
      "South Dakota, Vermont\n",
      "South Dakota, Wyoming\n",
      "Tennessee, West Virginia\n",
      "Texas, Utah\n",
      "Texas, West Virginia\n",
      "Utah, West Virginia\n",
      "Vermont, Wyoming\n"
     ]
    }
   ],
   "source": [
    "#Check out off diagonal ones\n",
    "ones = np.argwhere(mrf_tot)\n",
    "for one in ones:\n",
    "    if one[0] >= one[1]:\n",
    "        continue\n",
    "    #only get one triangle\n",
    "    else:\n",
    "        first = data_fill.columns[one[0]]\n",
    "        second = data_fill.columns[one[1]]\n",
    "        print('{}, {}'.format(first,second))"
   ]
  },
  {
   "cell_type": "code",
   "execution_count": 8,
   "metadata": {},
   "outputs": [],
   "source": [
    "np.save('data/mrf.npy',mrf_tot)"
   ]
  }
 ],
 "metadata": {
  "kernelspec": {
   "display_name": "Python [conda env:Tutorial]",
   "language": "python",
   "name": "conda-env-Tutorial-py"
  },
  "language_info": {
   "codemirror_mode": {
    "name": "ipython",
    "version": 3
   },
   "file_extension": ".py",
   "mimetype": "text/x-python",
   "name": "python",
   "nbconvert_exporter": "python",
   "pygments_lexer": "ipython3",
   "version": "3.6.8"
  }
 },
 "nbformat": 4,
 "nbformat_minor": 2
}
