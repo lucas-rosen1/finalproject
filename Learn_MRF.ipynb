{
 "cells": [
  {
   "cell_type": "code",
   "execution_count": 1,
   "metadata": {},
   "outputs": [
    {
     "name": "stderr",
     "output_type": "stream",
     "text": [
      "Detecting 1 CUDA devices.\n"
     ]
    }
   ],
   "source": [
    "from cdt.independence.graph import Glasso\n",
    "from sklearn.linear_model import LinearRegression\n",
    "from sklearn.metrics import mean_squared_error\n",
    "import numpy.linalg as la\n",
    "from sklearn.covariance import EmpiricalCovariance, graphical_lasso, GraphicalLassoCV\n",
    "import pickle\n",
    "import numpy as np\n",
    "import pandas as pd\n",
    "from tqdm import tqdm_notebook\n",
    "import networkx as nx\n",
    "import matplotlib.pyplot as plt"
   ]
  },
  {
   "cell_type": "code",
   "execution_count": 2,
   "metadata": {},
   "outputs": [],
   "source": [
    "with open('data/data_fill.pkl','rb') as f:\n",
    "    data_fill_list = pickle.load(f)\n",
    "\n",
    "    "
   ]
  },
  {
   "cell_type": "code",
   "execution_count": 3,
   "metadata": {},
   "outputs": [
    {
     "data": {
      "application/vnd.jupyter.widget-view+json": {
       "model_id": "e2f86f000d384851a4091ee9cfe7dfc8",
       "version_major": 2,
       "version_minor": 0
      },
      "text/plain": [
       "HBox(children=(IntProgress(value=0, max=10), HTML(value='')))"
      ]
     },
     "metadata": {},
     "output_type": "display_data"
    },
    {
     "name": "stderr",
     "output_type": "stream",
     "text": [
      "Class GraphLasso is deprecated; The 'GraphLasso' was renamed to 'GraphicalLasso' in version 0.20 and will be removed in 0.22.\n",
      "graphical_lasso: did not converge after 100 iteration: dual gap: -4.637e-04\n",
      "Class GraphLasso is deprecated; The 'GraphLasso' was renamed to 'GraphicalLasso' in version 0.20 and will be removed in 0.22.\n",
      "graphical_lasso: did not converge after 2000 iteration: dual gap: -4.556e-04\n",
      "Class GraphLasso is deprecated; The 'GraphLasso' was renamed to 'GraphicalLasso' in version 0.20 and will be removed in 0.22.\n",
      "Class GraphLasso is deprecated; The 'GraphLasso' was renamed to 'GraphicalLasso' in version 0.20 and will be removed in 0.22.\n",
      "invalid value encountered in multiply\n",
      "invalid value encountered in multiply\n",
      "Class GraphLasso is deprecated; The 'GraphLasso' was renamed to 'GraphicalLasso' in version 0.20 and will be removed in 0.22.\n",
      "Class GraphLasso is deprecated; The 'GraphLasso' was renamed to 'GraphicalLasso' in version 0.20 and will be removed in 0.22.\n",
      "invalid value encountered in multiply\n",
      "invalid value encountered in multiply\n",
      "Class GraphLasso is deprecated; The 'GraphLasso' was renamed to 'GraphicalLasso' in version 0.20 and will be removed in 0.22.\n",
      "Class GraphLasso is deprecated; The 'GraphLasso' was renamed to 'GraphicalLasso' in version 0.20 and will be removed in 0.22.\n",
      "invalid value encountered in multiply\n",
      "invalid value encountered in multiply\n",
      "Class GraphLasso is deprecated; The 'GraphLasso' was renamed to 'GraphicalLasso' in version 0.20 and will be removed in 0.22.\n"
     ]
    },
    {
     "name": "stdout",
     "output_type": "stream",
     "text": [
      "\n"
     ]
    },
    {
     "name": "stderr",
     "output_type": "stream",
     "text": [
      "Class GraphLasso is deprecated; The 'GraphLasso' was renamed to 'GraphicalLasso' in version 0.20 and will be removed in 0.22.\n"
     ]
    }
   ],
   "source": [
    "## Glasso\n",
    "emp = EmpiricalCovariance()\n",
    "mrfs_list = []\n",
    "lambda_list = []\n",
    "## Do lambda search on each and choose best\n",
    "for data_fill in tqdm_notebook(data_fill_list):\n",
    "    emp.fit(data_fill)\n",
    "    cov = emp.covariance_\n",
    "    ## Use CV to find best\n",
    "    gcv = GraphicalLassoCV(cv = 3, alphas = 20)\n",
    "    gcv.fit(data_fill.values)\n",
    "    ind_best = gcv.grid_scores_.mean(1).argmax()\n",
    "    lambda_best = gcv.cv_alphas_[ind_best]\n",
    "    gl = Glasso()\n",
    "    graph = gl.predict(data_fill, alpha = lambda_best)\n",
    "    mrf = nx.adjacency_matrix(graph).todense()\n",
    "    mrfs_list.append(mrf)\n",
    "    lambda_list.append(lambda_best)"
   ]
  },
  {
   "cell_type": "code",
   "execution_count": 4,
   "metadata": {},
   "outputs": [
    {
     "data": {
      "text/plain": [
       "[3.806530007285974,\n",
       " 47.86625055495572,\n",
       " 2.690390402148669,\n",
       " 169.85155111096933,\n",
       " 9.737905466346133,\n",
       " 11.922299347188394,\n",
       " 5.654985994178082,\n",
       " 0.30154614414545994,\n",
       " 171.47780828562955,\n",
       " 7.503803775220961]"
      ]
     },
     "execution_count": 4,
     "metadata": {},
     "output_type": "execute_result"
    }
   ],
   "source": [
    "lambda_list"
   ]
  },
  {
   "cell_type": "code",
   "execution_count": 5,
   "metadata": {},
   "outputs": [
    {
     "data": {
      "text/plain": [
       "<matplotlib.colorbar.Colorbar at 0x7f8b73af40b8>"
      ]
     },
     "execution_count": 5,
     "metadata": {},
     "output_type": "execute_result"
    },
    {
     "data": {
      "image/png": "[encoded data removed]",
      "text/plain": [
       "<Figure size 432x288 with 2 Axes>"
      ]
     },
     "metadata": {
      "needs_background": "light"
     },
     "output_type": "display_data"
    }
   ],
   "source": [
    "freqs = np.array([mrf.astype(bool) for mrf in mrfs_list]).mean(0)\n",
    "plt.imshow(freqs,cmap='jet')\n",
    "plt.colorbar()"
   ]
  },
  {
   "cell_type": "code",
   "execution_count": 6,
   "metadata": {},
   "outputs": [
    {
     "data": {
      "text/plain": [
       "<matplotlib.image.AxesImage at 0x7f8b73aa1080>"
      ]
     },
     "execution_count": 6,
     "metadata": {},
     "output_type": "execute_result"
    },
    {
     "data": {
      "image/png": "[encoded data removed]",
      "text/plain": [
       "<Figure size 432x288 with 1 Axes>"
      ]
     },
     "metadata": {
      "needs_background": "light"
     },
     "output_type": "display_data"
    }
   ],
   "source": [
    "mrf_tot = (freqs>=.5).astype(int)\n",
    "plt.imshow(mrf_tot)"
   ]
  },
  {
   "cell_type": "code",
   "execution_count": 7,
   "metadata": {},
   "outputs": [
    {
     "name": "stdout",
     "output_type": "stream",
     "text": [
      "District of Columbia, Kentucky\n",
      "District of Columbia, Rhode Island\n",
      "District of Columbia, West Virginia\n"
     ]
    }
   ],
   "source": [
    "#Check out off diagonal ones\n",
    "ones = np.argwhere(mrf_tot)\n",
    "for one in ones:\n",
    "    if one[0] >= one[1]:\n",
    "        continue\n",
    "    #only get one triangle\n",
    "    else:\n",
    "        first = data_fill.columns[one[0]]\n",
    "        second = data_fill.columns[one[1]]\n",
    "        print('{}, {}'.format(first,second))"
   ]
  },
  {
   "cell_type": "code",
   "execution_count": 8,
   "metadata": {},
   "outputs": [],
   "source": [
    "## Fairly non sensical, will save anyway\n",
    "np.save('data/mrf.npy',mrf_tot)"
   ]
  }
 ],
 "metadata": {
  "kernelspec": {
   "display_name": "Python [conda env:Tutorial]",
   "language": "python",
   "name": "conda-env-Tutorial-py"
  },
  "language_info": {
   "codemirror_mode": {
    "name": "ipython",
    "version": 3
   },
   "file_extension": ".py",
   "mimetype": "text/x-python",
   "name": "python",
   "nbconvert_exporter": "python",
   "pygments_lexer": "ipython3",
   "version": "3.6.8"
  }
 },
 "nbformat": 4,
 "nbformat_minor": 2
}
