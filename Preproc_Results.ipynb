{
 "cells": [
  {
   "cell_type": "code",
   "execution_count": 1,
   "metadata": {},
   "outputs": [],
   "source": [
    "import pandas as pd"
   ]
  },
  {
   "cell_type": "code",
   "execution_count": 2,
   "metadata": {},
   "outputs": [],
   "source": [
    "temp = pd.read_csv('data/US Presidential Results & PVIs by State 1828-2016 - Overall US Pres Results & PVIs.csv').iloc[:53,:3]"
   ]
  },
  {
   "cell_type": "code",
   "execution_count": 3,
   "metadata": {},
   "outputs": [],
   "source": [
    "temp.columns=['State','Clinton','Trump']\n",
    "temp = temp.iloc[2:]\n",
    "temp.set_index('State',inplace= True)\n",
    "temp = temp.astype(float)\n",
    "temp.Clinton = temp.Clinton / (temp.Clinton + temp.Trump)\n",
    "temp = temp.drop('Trump',1)"
   ]
  },
  {
   "cell_type": "code",
   "execution_count": 4,
   "metadata": {},
   "outputs": [],
   "source": [
    "ev = pd.read_csv('data/electoral.csv')\n",
    "\n",
    "ev.loc[(8,'state')] = 'Washington DC'\n",
    "\n",
    "ev = ev.set_index('state')\n",
    "\n",
    "temp = temp.join(ev)"
   ]
  },
  {
   "cell_type": "code",
   "execution_count": 5,
   "metadata": {},
   "outputs": [],
   "source": [
    "closing = pd.read_csv('data/closing.csv',index_col='state')"
   ]
  },
  {
   "cell_type": "code",
   "execution_count": 6,
   "metadata": {},
   "outputs": [],
   "source": [
    "temp = temp.join(closing)"
   ]
  },
  {
   "cell_type": "code",
   "execution_count": 7,
   "metadata": {},
   "outputs": [],
   "source": [
    "temp.to_csv('data/results.csv')"
   ]
  }
 ],
 "metadata": {
  "kernelspec": {
   "display_name": "Python [conda env:Tutorial]",
   "language": "python",
   "name": "conda-env-Tutorial-py"
  },
  "language_info": {
   "codemirror_mode": {
    "name": "ipython",
    "version": 3
   },
   "file_extension": ".py",
   "mimetype": "text/x-python",
   "name": "python",
   "nbconvert_exporter": "python",
   "pygments_lexer": "ipython3",
   "version": "3.6.8"
  }
 },
 "nbformat": 4,
 "nbformat_minor": 2
}
