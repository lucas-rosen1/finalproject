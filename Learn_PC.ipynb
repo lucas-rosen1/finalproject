{
 "cells": [
  {
   "cell_type": "code",
   "execution_count": 2,
   "metadata": {},
   "outputs": [
    {
     "name": "stderr",
     "output_type": "stream",
     "text": [
      "Detecting 1 CUDA devices.\n"
     ]
    }
   ],
   "source": [
    "import pickle\n",
    "from tqdm import tqdm_notebook\n",
    "from cdt.causality.graph import PC\n",
    "import networkx as nx\n",
    "\n",
    "import matplotlib.pyplot as plt\n",
    "import numpy as np\n",
    "import pandas as pd\n",
    "from sklearn.linear_model import LinearRegression\n",
    "from sklearn.metrics import mean_squared_error"
   ]
  },
  {
   "cell_type": "code",
   "execution_count": 3,
   "metadata": {},
   "outputs": [],
   "source": [
    "def BIC_dag(dag_mat, data):\n",
    "    \"\"\"Calculate BIC score from adjacency matrix of DAG\n",
    "    and data.\"\"\"\n",
    "    \n",
    "    \n",
    "    MSS_t = 0\n",
    "    for i in range(dag_mat.shape[1]):\n",
    "        col = dag_mat[:,i]\n",
    "        y = data.iloc[:,i]\n",
    "        X = data.iloc[:,col.astype(bool)]\n",
    "        reg = LinearRegression()\n",
    "        pars = X.shape[1]\n",
    "        \n",
    "        ## If no parents, predict the mean.\n",
    "        if pars==0:\n",
    "            y_pred = np.zeros(len(y))\n",
    "            y_pred[:] = y.mean()\n",
    "\n",
    "        else:\n",
    "            reg.fit(X,y)\n",
    "            y_pred = reg.predict(X)\n",
    "        MSS = mean_squared_error(y,y_pred)\n",
    "        MSS_t += MSS\n",
    "        \n",
    "    #q+2 parms for each linear regression\n",
    "    d = dag_mat.astype(bool).sum() + 2*data.shape[1]\n",
    "    BIC = -data.shape[0]/2*MSS_t - (d/2)*np.log(data.shape[0])\n",
    "    return BIC"
   ]
  },
  {
   "cell_type": "code",
   "execution_count": 4,
   "metadata": {},
   "outputs": [],
   "source": [
    "with open('data/data_fill.pkl','rb') as f:\n",
    "    data_fill_list = pickle.load(f)\n",
    "\n",
    "    "
   ]
  },
  {
   "cell_type": "code",
   "execution_count": 5,
   "metadata": {},
   "outputs": [
    {
     "data": {
      "application/vnd.jupyter.widget-view+json": {
       "model_id": "fd08ae52cbf74957a4d448023d1443b5",
       "version_major": 2,
       "version_minor": 0
      },
      "text/plain": [
       "HBox(children=(IntProgress(value=0, max=10), HTML(value='')))"
      ]
     },
     "metadata": {},
     "output_type": "display_data"
    },
    {
     "data": {
      "application/vnd.jupyter.widget-view+json": {
       "model_id": "5b9aa99e31114db3a1d480b750fd6f66",
       "version_major": 2,
       "version_minor": 0
      },
      "text/plain": [
       "HBox(children=(IntProgress(value=0, max=16), HTML(value='')))"
      ]
     },
     "metadata": {},
     "output_type": "display_data"
    },
    {
     "data": {
      "application/vnd.jupyter.widget-view+json": {
       "model_id": "8299238ddcb740cc929d3aa9a27dff59",
       "version_major": 2,
       "version_minor": 0
      },
      "text/plain": [
       "HBox(children=(IntProgress(value=0, max=16), HTML(value='')))"
      ]
     },
     "metadata": {},
     "output_type": "display_data"
    },
    {
     "data": {
      "application/vnd.jupyter.widget-view+json": {
       "model_id": "6ad29931589c4b9bb020c2db7b51d185",
       "version_major": 2,
       "version_minor": 0
      },
      "text/plain": [
       "HBox(children=(IntProgress(value=0, max=16), HTML(value='')))"
      ]
     },
     "metadata": {},
     "output_type": "display_data"
    },
    {
     "data": {
      "application/vnd.jupyter.widget-view+json": {
       "model_id": "1bcf2bf9df074b66992c421ab3164a6f",
       "version_major": 2,
       "version_minor": 0
      },
      "text/plain": [
       "HBox(children=(IntProgress(value=0, max=16), HTML(value='')))"
      ]
     },
     "metadata": {},
     "output_type": "display_data"
    },
    {
     "data": {
      "application/vnd.jupyter.widget-view+json": {
       "model_id": "2ec8062e7b2541eb9cad7488a562039c",
       "version_major": 2,
       "version_minor": 0
      },
      "text/plain": [
       "HBox(children=(IntProgress(value=0, max=16), HTML(value='')))"
      ]
     },
     "metadata": {},
     "output_type": "display_data"
    },
    {
     "data": {
      "application/vnd.jupyter.widget-view+json": {
       "model_id": "e558050b50114c1f89e86d6432e40ca5",
       "version_major": 2,
       "version_minor": 0
      },
      "text/plain": [
       "HBox(children=(IntProgress(value=0, max=16), HTML(value='')))"
      ]
     },
     "metadata": {},
     "output_type": "display_data"
    },
    {
     "data": {
      "application/vnd.jupyter.widget-view+json": {
       "model_id": "117efffaf08e4bfeb3bd5c3ba691f662",
       "version_major": 2,
       "version_minor": 0
      },
      "text/plain": [
       "HBox(children=(IntProgress(value=0, max=16), HTML(value='')))"
      ]
     },
     "metadata": {},
     "output_type": "display_data"
    },
    {
     "data": {
      "application/vnd.jupyter.widget-view+json": {
       "model_id": "bc02e673c049401788540f800edda167",
       "version_major": 2,
       "version_minor": 0
      },
      "text/plain": [
       "HBox(children=(IntProgress(value=0, max=16), HTML(value='')))"
      ]
     },
     "metadata": {},
     "output_type": "display_data"
    },
    {
     "data": {
      "application/vnd.jupyter.widget-view+json": {
       "model_id": "f8e681af6a1343419284960b31cc0f86",
       "version_major": 2,
       "version_minor": 0
      },
      "text/plain": [
       "HBox(children=(IntProgress(value=0, max=16), HTML(value='')))"
      ]
     },
     "metadata": {},
     "output_type": "display_data"
    },
    {
     "data": {
      "application/vnd.jupyter.widget-view+json": {
       "model_id": "c9ea8b82258c43d7852906f94fc47437",
       "version_major": 2,
       "version_minor": 0
      },
      "text/plain": [
       "HBox(children=(IntProgress(value=0, max=16), HTML(value='')))"
      ]
     },
     "metadata": {},
     "output_type": "display_data"
    },
    {
     "name": "stdout",
     "output_type": "stream",
     "text": [
      "\n"
     ]
    }
   ],
   "source": [
    "## Do alpha search on each and choose that graph\n",
    "alphas_list = []\n",
    "DAGs_list = []\n",
    "for data_fill in tqdm_notebook(data_fill_list):\n",
    "    \n",
    "    BICs_list = []\n",
    "    alphas = np.arange(0.05,.2,.01)\n",
    "    for alpha in tqdm_notebook(alphas):\n",
    "        pcalg = PC(alpha = alpha)\n",
    "        dag = pcalg.create_graph_from_data(data_fill)\n",
    "        dag_mat =np.array(nx.adjacency_matrix(dag).todense())\n",
    "        BIC = BIC_dag(dag_mat, data_fill)\n",
    "        BICs_list.append(BIC)\n",
    "    alpha_best = alphas[np.argmax(BICs_list)]\n",
    "    pcalg = PC(alpha = alpha_best)\n",
    "    dag = pcalg.create_graph_from_data(data_fill)\n",
    "    dag_mat =np.array(nx.adjacency_matrix(dag).todense())\n",
    "    alphas_list.append(alpha_best)\n",
    "    DAGs_list.append(dag_mat)"
   ]
  },
  {
   "cell_type": "code",
   "execution_count": 6,
   "metadata": {},
   "outputs": [
    {
     "data": {
      "text/plain": [
       "[0.060000000000000005,\n",
       " 0.05,\n",
       " 0.05,\n",
       " 0.05,\n",
       " 0.05,\n",
       " 0.05,\n",
       " 0.060000000000000005,\n",
       " 0.05,\n",
       " 0.05,\n",
       " 0.07]"
      ]
     },
     "execution_count": 6,
     "metadata": {},
     "output_type": "execute_result"
    }
   ],
   "source": [
    "alphas_list"
   ]
  },
  {
   "cell_type": "code",
   "execution_count": 7,
   "metadata": {},
   "outputs": [
    {
     "data": {
      "text/plain": [
       "<matplotlib.colorbar.Colorbar at 0x7f6b628bcdd8>"
      ]
     },
     "execution_count": 7,
     "metadata": {},
     "output_type": "execute_result"
    },
    {
     "data": {
      "image/png": "[encoded data removed]",
      "text/plain": [
       "<Figure size 432x288 with 2 Axes>"
      ]
     },
     "metadata": {
      "needs_background": "light"
     },
     "output_type": "display_data"
    }
   ],
   "source": [
    "freqs = np.array(DAGs_list).mean(0)\n",
    "plt.imshow(freqs,cmap='jet')\n",
    "plt.colorbar()"
   ]
  },
  {
   "cell_type": "code",
   "execution_count": 8,
   "metadata": {},
   "outputs": [
    {
     "data": {
      "text/plain": [
       "<matplotlib.image.AxesImage at 0x7f6b627ee668>"
      ]
     },
     "execution_count": 8,
     "metadata": {},
     "output_type": "execute_result"
    },
    {
     "data": {
      "image/png": "[encoded data removed]",
      "text/plain": [
       "<Figure size 432x288 with 1 Axes>"
      ]
     },
     "metadata": {
      "needs_background": "light"
     },
     "output_type": "display_data"
    }
   ],
   "source": [
    "dag_tot = (freqs>=.5).astype(int)\n",
    "plt.imshow(dag_tot)"
   ]
  },
  {
   "cell_type": "code",
   "execution_count": 9,
   "metadata": {},
   "outputs": [
    {
     "name": "stdout",
     "output_type": "stream",
     "text": [
      "Alabama, New York\n",
      "Arizona, Colorado\n",
      "California, Illinois\n",
      "Colorado, Arizona\n",
      "District of Columbia, Mississippi\n",
      "Florida, North Carolina\n",
      "Georgia, Oklahoma\n",
      "Idaho, New Hampshire\n",
      "Illinois, California\n",
      "Kentucky, Oklahoma\n",
      "Massachusetts, Pennsylvania\n",
      "Michigan, Ohio\n",
      "Mississippi, District of Columbia\n",
      "New Hampshire, Idaho\n",
      "New Jersey, Pennsylvania\n",
      "New York, Alabama\n",
      "North Carolina, Florida\n",
      "Ohio, Michigan\n",
      "Oklahoma, Georgia\n",
      "Oklahoma, Kentucky\n",
      "Pennsylvania, Massachusetts\n",
      "Pennsylvania, New Jersey\n",
      "Tennessee, West Virginia\n",
      "Utah, Virginia\n",
      "Virginia, Utah\n",
      "West Virginia, Tennessee\n"
     ]
    }
   ],
   "source": [
    "#Check out off diagonal ones\n",
    "ones = np.argwhere(dag_tot)\n",
    "for one in ones:\n",
    "    if one[0] == one[1]:\n",
    "        continue\n",
    "    #only get one triangle\n",
    "    else:\n",
    "        first = data_fill.columns[one[0]]\n",
    "        second = data_fill.columns[one[1]]\n",
    "        print('{}, {}'.format(first,second))"
   ]
  },
  {
   "cell_type": "code",
   "execution_count": 12,
   "metadata": {},
   "outputs": [],
   "source": [
    "DAG_PC = pd.DataFrame(dag_tot, index = data_fill_list[0].columns, columns=data_fill_list[0].columns)\n",
    "DAG_PC.to_csv('data/DAG_PC.csv')"
   ]
  }
 ],
 "metadata": {
  "kernelspec": {
   "display_name": "Python [conda env:Tutorial]",
   "language": "python",
   "name": "conda-env-Tutorial-py"
  },
  "language_info": {
   "codemirror_mode": {
    "name": "ipython",
    "version": 3
   },
   "file_extension": ".py",
   "mimetype": "text/x-python",
   "name": "python",
   "nbconvert_exporter": "python",
   "pygments_lexer": "ipython3",
   "version": "3.6.8"
  }
 },
 "nbformat": 4,
 "nbformat_minor": 2
}
