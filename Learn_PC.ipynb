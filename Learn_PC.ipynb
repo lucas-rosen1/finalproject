{
 "cells": [
  {
   "cell_type": "code",
   "execution_count": 1,
   "metadata": {},
   "outputs": [
    {
     "name": "stderr",
     "output_type": "stream",
     "text": [
      "Detecting 1 CUDA devices.\n"
     ]
    }
   ],
   "source": [
    "import pickle\n",
    "from tqdm import tqdm_notebook\n",
    "from cdt.causality.graph import PC\n",
    "import networkx as nx\n",
    "\n",
    "import matplotlib.pyplot as plt\n",
    "import numpy as np\n",
    "import pandas as pd\n",
    "from sklearn.linear_model import LinearRegression\n",
    "from sklearn.metrics import mean_squared_error"
   ]
  },
  {
   "cell_type": "code",
   "execution_count": 2,
   "metadata": {},
   "outputs": [],
   "source": [
    "def BIC_dag(dag_mat, data):\n",
    "    \"\"\"Calculate BIC score from adjacency matrix of DAG\n",
    "    and data.\"\"\"\n",
    "    \n",
    "    \n",
    "    MSS_t = 0\n",
    "    for i in range(dag_mat.shape[1]):\n",
    "        col = dag_mat[:,i]\n",
    "        y = data.iloc[:,i]\n",
    "        X = data.iloc[:,col.astype(bool)]\n",
    "        reg = LinearRegression()\n",
    "        pars = X.shape[1]\n",
    "        \n",
    "        ## If no parents, predict the mean.\n",
    "        if pars==0:\n",
    "            y_pred = np.zeros(len(y))\n",
    "            y_pred[:] = y.mean()\n",
    "\n",
    "        else:\n",
    "            reg.fit(X,y)\n",
    "            y_pred = reg.predict(X)\n",
    "        MSS = mean_squared_error(y,y_pred)\n",
    "        MSS_t += MSS\n",
    "        \n",
    "    #q+2 parms for each linear regression\n",
    "    d = dag_mat.astype(bool).sum() + 2*data.shape[1]\n",
    "    BIC = -data.shape[0]/2*MSS_t - (d/2)*np.log(data.shape[0])\n",
    "    return BIC"
   ]
  },
  {
   "cell_type": "code",
   "execution_count": 3,
   "metadata": {},
   "outputs": [],
   "source": [
    "with open('data/data_fill.pkl','rb') as f:\n",
    "    data_fill_list = pickle.load(f)\n",
    "\n",
    "    "
   ]
  },
  {
   "cell_type": "code",
   "execution_count": 4,
   "metadata": {},
   "outputs": [
    {
     "data": {
      "application/vnd.jupyter.widget-view+json": {
       "model_id": "43531eb0e99743dda7113a1580e97f3c",
       "version_major": 2,
       "version_minor": 0
      },
      "text/plain": [
       "HBox(children=(IntProgress(value=0, max=10), HTML(value='')))"
      ]
     },
     "metadata": {},
     "output_type": "display_data"
    },
    {
     "data": {
      "application/vnd.jupyter.widget-view+json": {
       "model_id": "38f8b094eb554f2c97950539f60f9483",
       "version_major": 2,
       "version_minor": 0
      },
      "text/plain": [
       "HBox(children=(IntProgress(value=0, max=5), HTML(value='')))"
      ]
     },
     "metadata": {},
     "output_type": "display_data"
    },
    {
     "data": {
      "application/vnd.jupyter.widget-view+json": {
       "model_id": "df7ab30a1e20407eb35b1c232919982a",
       "version_major": 2,
       "version_minor": 0
      },
      "text/plain": [
       "HBox(children=(IntProgress(value=0, max=5), HTML(value='')))"
      ]
     },
     "metadata": {},
     "output_type": "display_data"
    },
    {
     "data": {
      "application/vnd.jupyter.widget-view+json": {
       "model_id": "d9997959735b43fb848ea070882b6e09",
       "version_major": 2,
       "version_minor": 0
      },
      "text/plain": [
       "HBox(children=(IntProgress(value=0, max=5), HTML(value='')))"
      ]
     },
     "metadata": {},
     "output_type": "display_data"
    },
    {
     "data": {
      "application/vnd.jupyter.widget-view+json": {
       "model_id": "4ceb58bd70a54f47a32c54c3822bfe35",
       "version_major": 2,
       "version_minor": 0
      },
      "text/plain": [
       "HBox(children=(IntProgress(value=0, max=5), HTML(value='')))"
      ]
     },
     "metadata": {},
     "output_type": "display_data"
    },
    {
     "data": {
      "application/vnd.jupyter.widget-view+json": {
       "model_id": "455bcfbf961c457eb5b6af8a0ef4559c",
       "version_major": 2,
       "version_minor": 0
      },
      "text/plain": [
       "HBox(children=(IntProgress(value=0, max=5), HTML(value='')))"
      ]
     },
     "metadata": {},
     "output_type": "display_data"
    },
    {
     "data": {
      "application/vnd.jupyter.widget-view+json": {
       "model_id": "f676e225a4ce4cab8b9d090169369305",
       "version_major": 2,
       "version_minor": 0
      },
      "text/plain": [
       "HBox(children=(IntProgress(value=0, max=5), HTML(value='')))"
      ]
     },
     "metadata": {},
     "output_type": "display_data"
    },
    {
     "data": {
      "application/vnd.jupyter.widget-view+json": {
       "model_id": "5ba15f25882641719904696bbd388088",
       "version_major": 2,
       "version_minor": 0
      },
      "text/plain": [
       "HBox(children=(IntProgress(value=0, max=5), HTML(value='')))"
      ]
     },
     "metadata": {},
     "output_type": "display_data"
    },
    {
     "data": {
      "application/vnd.jupyter.widget-view+json": {
       "model_id": "d4287e438091449e8f1ecda2bed51215",
       "version_major": 2,
       "version_minor": 0
      },
      "text/plain": [
       "HBox(children=(IntProgress(value=0, max=5), HTML(value='')))"
      ]
     },
     "metadata": {},
     "output_type": "display_data"
    },
    {
     "data": {
      "application/vnd.jupyter.widget-view+json": {
       "model_id": "ae1e51fa88224923b7c812a186a815c3",
       "version_major": 2,
       "version_minor": 0
      },
      "text/plain": [
       "HBox(children=(IntProgress(value=0, max=5), HTML(value='')))"
      ]
     },
     "metadata": {},
     "output_type": "display_data"
    },
    {
     "data": {
      "application/vnd.jupyter.widget-view+json": {
       "model_id": "649ad717764a47e893e7d5613d0f245e",
       "version_major": 2,
       "version_minor": 0
      },
      "text/plain": [
       "HBox(children=(IntProgress(value=0, max=5), HTML(value='')))"
      ]
     },
     "metadata": {},
     "output_type": "display_data"
    },
    {
     "name": "stdout",
     "output_type": "stream",
     "text": [
      "\n"
     ]
    }
   ],
   "source": [
    "## Do alpha search on each and choose that graph\n",
    "alphas_list = []\n",
    "DAGs_list = []\n",
    "for data_fill in tqdm_notebook(data_fill_list):\n",
    "    \n",
    "    BICs_list = []\n",
    "    alphas = np.arange(0.05,.1,.01)\n",
    "    for alpha in tqdm_notebook(alphas):\n",
    "        pcalg = PC(alpha = alpha)\n",
    "        dag = pcalg.create_graph_from_data(data_fill)\n",
    "        dag_mat =np.array(nx.adjacency_matrix(dag).todense())\n",
    "        BIC = BIC_dag(dag_mat, data_fill)\n",
    "        BICs_list.append(BIC)\n",
    "    alpha_best = alphas[np.argmax(BICs_list)]\n",
    "    pcalg = PC(alpha = alpha_best)\n",
    "    dag = pcalg.create_graph_from_data(data_fill)\n",
    "    dag_mat =np.array(nx.adjacency_matrix(dag).todense())\n",
    "    alphas_list.append(alpha_best)\n",
    "    DAGs_list.append(dag_mat)"
   ]
  },
  {
   "cell_type": "code",
   "execution_count": 5,
   "metadata": {},
   "outputs": [
    {
     "data": {
      "text/plain": [
       "[0.05,\n",
       " 0.060000000000000005,\n",
       " 0.05,\n",
       " 0.05,\n",
       " 0.060000000000000005,\n",
       " 0.060000000000000005,\n",
       " 0.05,\n",
       " 0.05,\n",
       " 0.05,\n",
       " 0.08000000000000002]"
      ]
     },
     "execution_count": 5,
     "metadata": {},
     "output_type": "execute_result"
    }
   ],
   "source": [
    "alphas_list"
   ]
  },
  {
   "cell_type": "code",
   "execution_count": 6,
   "metadata": {},
   "outputs": [
    {
     "data": {
      "text/plain": [
       "<matplotlib.colorbar.Colorbar at 0x7f5bad0a9da0>"
      ]
     },
     "execution_count": 6,
     "metadata": {},
     "output_type": "execute_result"
    },
    {
     "data": {
      "image/png": "[encoded data removed]",
      "text/plain": [
       "<Figure size 432x288 with 2 Axes>"
      ]
     },
     "metadata": {
      "needs_background": "light"
     },
     "output_type": "display_data"
    }
   ],
   "source": [
    "freqs = np.array(DAGs_list).mean(0)\n",
    "plt.imshow(freqs,cmap='jet')\n",
    "plt.colorbar()"
   ]
  },
  {
   "cell_type": "code",
   "execution_count": 7,
   "metadata": {},
   "outputs": [
    {
     "data": {
      "text/plain": [
       "<matplotlib.image.AxesImage at 0x7f5bacfe3048>"
      ]
     },
     "execution_count": 7,
     "metadata": {},
     "output_type": "execute_result"
    },
    {
     "data": {
      "image/png": "[encoded data removed]",
      "text/plain": [
       "<Figure size 432x288 with 1 Axes>"
      ]
     },
     "metadata": {
      "needs_background": "light"
     },
     "output_type": "display_data"
    }
   ],
   "source": [
    "dag_tot = (freqs>=.5).astype(int)\n",
    "# Arbitrarily choose an orientation\n",
    "for i in range(dag_tot.shape[0]):\n",
    "    for j in range(dag_tot.shape[1]):\n",
    "        if dag_tot[i,j]==1 and dag_tot[j,i]==1:\n",
    "            dag_tot[j,i] = 0\n",
    "plt.imshow(dag_tot)"
   ]
  },
  {
   "cell_type": "code",
   "execution_count": 8,
   "metadata": {},
   "outputs": [
    {
     "name": "stdout",
     "output_type": "stream",
     "text": [
      "Alabama, New York\n",
      "Alaska, New Mexico\n",
      "Arizona, Colorado\n",
      "California, Illinois\n",
      "District of Columbia, Mississippi\n",
      "Florida, North Carolina\n",
      "Georgia, Oklahoma\n",
      "Idaho, New Hampshire\n",
      "Kansas, New Jersey\n",
      "Kentucky, Nebraska\n",
      "Kentucky, Oklahoma\n",
      "Massachusetts, Pennsylvania\n",
      "Michigan, Ohio\n",
      "Oregon, Texas\n",
      "South Dakota, Wyoming\n",
      "Tennessee, West Virginia\n",
      "Utah, Virginia\n",
      "Wyoming, Montana\n"
     ]
    }
   ],
   "source": [
    "#Check out off diagonal ones\n",
    "ones = np.argwhere(dag_tot)\n",
    "for one in ones:\n",
    "    if one[0] == one[1]:\n",
    "        continue\n",
    "    #only get one triangle\n",
    "    else:\n",
    "        first = data_fill.columns[one[0]]\n",
    "        second = data_fill.columns[one[1]]\n",
    "        print('{}, {}'.format(first,second))"
   ]
  },
  {
   "cell_type": "code",
   "execution_count": 9,
   "metadata": {},
   "outputs": [],
   "source": [
    "DAG_PC = pd.DataFrame(dag_tot, index = data_fill_list[0].columns, columns=data_fill_list[0].columns)\n",
    "DAG_PC.to_csv('data/DAG_PC.csv')"
   ]
  }
 ],
 "metadata": {
  "kernelspec": {
   "display_name": "Python [conda env:Tutorial]",
   "language": "python",
   "name": "conda-env-Tutorial-py"
  },
  "language_info": {
   "codemirror_mode": {
    "name": "ipython",
    "version": 3
   },
   "file_extension": ".py",
   "mimetype": "text/x-python",
   "name": "python",
   "nbconvert_exporter": "python",
   "pygments_lexer": "ipython3",
   "version": "3.6.8"
  }
 },
 "nbformat": 4,
 "nbformat_minor": 2
}
