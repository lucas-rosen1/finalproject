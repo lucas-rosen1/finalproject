{
 "cells": [
  {
   "cell_type": "code",
   "execution_count": 1,
   "metadata": {},
   "outputs": [],
   "source": [
    "import pickle\n",
    "import pandas as pd\n",
    "import numpy as np\n",
    "from pgmpy.models import LinearGaussianBayesianNetwork\n",
    "from pgmpy.factors.continuous import LinearGaussianCPD\n",
    "from pgmpy.inference.ExactInference import BeliefPropagation\n",
    "from scipy.stats import multivariate_normal\n",
    "from pgmpy.factors.continuous import ContinuousFactor\n",
    "from pgmpy.models import BayesianModel\n",
    "import numpy.linalg as la\n",
    "import emcee\n",
    "from tqdm import tqdm_notebook"
   ]
  },
  {
   "cell_type": "code",
   "execution_count": 2,
   "metadata": {},
   "outputs": [],
   "source": [
    "## DAG\n",
    "\n",
    "PC_DAG = pd.read_csv('data/DAG_PC.csv',index_col = 'Unnamed: 0')\n",
    "with open('data/MLE_PC.pkl','rb') as f:\n",
    "    PC_MLE = pickle.load(f)\n",
    "    \n",
    "mean = pd.read_csv('data/final_means.csv',header=None,index_col=0)"
   ]
  },
  {
   "cell_type": "code",
   "execution_count": 3,
   "metadata": {},
   "outputs": [],
   "source": [
    "g = LinearGaussianBayesianNetwork()\n",
    "\n",
    "g.add_nodes_from(PC_DAG.columns)\n",
    "\n",
    "edges = [(PC_DAG.index[edge[0]], PC_DAG.columns[edge[1]]) for edge in np.argwhere(PC_DAG.values)]\n",
    "\n",
    "g.add_edges_from(edges)\n",
    "\n",
    "for factor in PC_MLE:\n",
    "    name = factor[0]\n",
    "    beta = factor[1]\n",
    "    var = factor[2]\n",
    "    pars = factor[3]\n",
    "    if len(pars)==0:\n",
    "        cpd = LinearGaussianCPD(name, [], var, pars)\n",
    "        cpd.beta_0 = mean.loc[name]\n",
    "        g.add_cpds(cpd)\n",
    "    else:\n",
    "        cpd = LinearGaussianCPD(name,  beta, var, pars)\n",
    "        cpd.beta_0 = mean.loc[name]\n",
    "        g.add_cpds(cpd)\n",
    "\n",
    "norm = g.to_joint_gaussian()"
   ]
  },
  {
   "cell_type": "code",
   "execution_count": 4,
   "metadata": {},
   "outputs": [],
   "source": [
    "# MRF\n",
    "mrf = pd.read_csv('data/MRF.csv',index_col = 'Unnamed: 0')\n",
    "sigma_mrf = la.inv(mrf.values)\n",
    "mu_mrf = mean.values.squeeze()\n",
    "vars_mrf = list(PC_DAG.columns)"
   ]
  },
  {
   "cell_type": "code",
   "execution_count": 5,
   "metadata": {},
   "outputs": [],
   "source": [
    "vars_dag = norm.variables\n",
    "mu_dag = pd.Series(mu_mrf,index=vars_mrf).reindex(vars_dag)\n",
    "sigma_dag = norm.covariance\n"
   ]
  },
  {
   "cell_type": "code",
   "execution_count": 6,
   "metadata": {},
   "outputs": [],
   "source": [
    "def lnprob(x, mu, cov,icov, conditions, vars = None):\n",
    "    for condition in conditions:\n",
    "        ind = vars.index(condition)\n",
    "        x[ind] = conditions[condition]\n",
    "    k = len(x)\n",
    "    diff = x-mu\n",
    "    term1 = np.log(la.det(cov))\n",
    "    term2 = np.dot(diff,np.dot(icov,diff))\n",
    "    term3 = k*np.log(2*np.pi)\n",
    "    return -1/2*(term1 + term2 + term3)"
   ]
  },
  {
   "cell_type": "code",
   "execution_count": 7,
   "metadata": {},
   "outputs": [],
   "source": [
    "def mcmc(mu,sigma,conditions,vars):\n",
    "    ndim = 51\n",
    "    nwalkers = 250\n",
    "    p0 = np.random.rand(ndim * nwalkers).reshape((nwalkers, ndim))\n",
    "    sampler = emcee.EnsembleSampler(nwalkers, ndim, lnprob, args=[mu,sigma, la.inv(sigma), conditions, vars])\n",
    "    pos, prob, state = sampler.run_mcmc(p0, 100)\n",
    "    sampler.reset()\n",
    "    sampler.run_mcmc(pos, 1000)\n",
    "    print(np.mean(sampler.acceptance_fraction))\n",
    "    return pd.Series(sampler.flatchain.mean(0),index = vars)\n",
    "\n",
    "def mh(mu,sigma,conditions,vars):\n",
    "    ndim = 51\n",
    "    nwalkers = 250\n",
    "    p0 = np.random.rand(ndim)\n",
    "    sampler = emcee.MHSampler(sigma, ndim, lnprob, args=[mu,sigma, la.inv(sigma), conditions, vars])\n",
    "    pos, prob, state = sampler.run_mcmc(p0, 1000)\n",
    "    sampler.reset()\n",
    "    sampler.run_mcmc(pos, 10000)\n",
    "    print(np.mean(sampler.acceptance_fraction))\n",
    "    return pd.Series(sampler.flatchain.mean(0),index = vars)\n",
    "    "
   ]
  },
  {
   "cell_type": "code",
   "execution_count": 8,
   "metadata": {},
   "outputs": [],
   "source": [
    "election = pd.read_csv('data/results.csv',index_col='State')\n",
    "temp = list(election.index)\n",
    "\n",
    "temp[-1] = 'District of Columbia'\n",
    "election.index = temp"
   ]
  },
  {
   "cell_type": "code",
   "execution_count": 9,
   "metadata": {},
   "outputs": [],
   "source": [
    "def pred_clinton_mcmc(mu,sigma,vars,time = 6.5):\n",
    "    evidence = election[election.Poll_Closing <= time].Clinton.to_dict()\n",
    "    vote_perc = mcmc(mu_dag, sigma_dag, evidence,vars_dag)\n",
    "    clinton_win = (vote_perc>.50).astype(int).reindex(election.index)\n",
    "    return vote_perc.loc[['Florida','Michigan','Pennsylvania','Wisconsin']], (clinton_win*election['number of votes']).sum()"
   ]
  },
  {
   "cell_type": "code",
   "execution_count": 10,
   "metadata": {},
   "outputs": [],
   "source": [
    "def pred_clinton_mh(mu,sigma,vars,time = 6.5):\n",
    "    evidence = election[election.Poll_Closing <= time].Clinton.to_dict()\n",
    "    vote_perc = mh(mu_dag, sigma_dag, evidence,vars_dag)\n",
    "    clinton_win = (vote_perc>.50).astype(int).reindex(election.index)\n",
    "    return vote_perc.loc[['Florida','Michigan','Pennsylvania','Wisconsin']], (clinton_win*election['number of votes']).sum()"
   ]
  },
  {
   "cell_type": "code",
   "execution_count": 11,
   "metadata": {},
   "outputs": [
    {
     "data": {
      "application/vnd.jupyter.widget-view+json": {
       "model_id": "f695046fbe654210828146c856650773",
       "version_major": 2,
       "version_minor": 0
      },
      "text/plain": [
       "HBox(children=(IntProgress(value=0, max=2), HTML(value='')))"
      ]
     },
     "metadata": {},
     "output_type": "display_data"
    },
    {
     "data": {
      "application/vnd.jupyter.widget-view+json": {
       "model_id": "a6d1ba6435f24db995c49611f517aead",
       "version_major": 2,
       "version_minor": 0
      },
      "text/plain": [
       "HBox(children=(IntProgress(value=0, max=8), HTML(value='')))"
      ]
     },
     "metadata": {},
     "output_type": "display_data"
    },
    {
     "data": {
      "application/vnd.jupyter.widget-view+json": {
       "model_id": "d36cc8e769e14ed282ce806c91b41e09",
       "version_major": 2,
       "version_minor": 0
      },
      "text/plain": [
       "HBox(children=(IntProgress(value=0, max=10), HTML(value='')))"
      ]
     },
     "metadata": {},
     "output_type": "display_data"
    },
    {
     "name": "stdout",
     "output_type": "stream",
     "text": [
      "0.20383199999999999\n",
      "0.205264\n",
      "0.203732\n",
      "0.20675600000000002\n",
      "0.20368400000000003\n",
      "0.20397200000000004\n",
      "0.20566800000000002\n",
      "0.20256400000000002\n",
      "0.20681200000000002\n",
      "0.199608\n"
     ]
    },
    {
     "data": {
      "application/vnd.jupyter.widget-view+json": {
       "model_id": "eb8034a839824f60bb67a4e5a8eb025c",
       "version_major": 2,
       "version_minor": 0
      },
      "text/plain": [
       "HBox(children=(IntProgress(value=0, max=10), HTML(value='')))"
      ]
     },
     "metadata": {},
     "output_type": "display_data"
    },
    {
     "name": "stdout",
     "output_type": "stream",
     "text": [
      "0.20434400000000003\n",
      "0.206112\n",
      "0.20718799999999998\n",
      "0.203644\n",
      "0.203156\n",
      "0.20616000000000004\n",
      "0.20731600000000003\n",
      "0.20442000000000002\n",
      "0.20712\n",
      "0.204268\n"
     ]
    },
    {
     "data": {
      "application/vnd.jupyter.widget-view+json": {
       "model_id": "14606eedb6f943e6b0eddef8bc26aa53",
       "version_major": 2,
       "version_minor": 0
      },
      "text/plain": [
       "HBox(children=(IntProgress(value=0, max=10), HTML(value='')))"
      ]
     },
     "metadata": {},
     "output_type": "display_data"
    },
    {
     "name": "stdout",
     "output_type": "stream",
     "text": [
      "0.20306799999999997\n",
      "0.202988\n",
      "0.204656\n",
      "0.20458400000000002\n",
      "0.20592000000000002\n",
      "0.20331600000000002\n",
      "0.20172800000000002\n",
      "0.20306\n",
      "0.201992\n",
      "0.20325200000000002\n"
     ]
    },
    {
     "data": {
      "application/vnd.jupyter.widget-view+json": {
       "model_id": "9104c2a8437741a5ae75f156d6f76c2e",
       "version_major": 2,
       "version_minor": 0
      },
      "text/plain": [
       "HBox(children=(IntProgress(value=0, max=10), HTML(value='')))"
      ]
     },
     "metadata": {},
     "output_type": "display_data"
    },
    {
     "name": "stdout",
     "output_type": "stream",
     "text": [
      "0.20452800000000002\n",
      "0.20523600000000003\n",
      "0.204928\n",
      "0.20506799999999997\n",
      "0.20373200000000002\n",
      "0.20554\n",
      "0.20582000000000003\n",
      "0.20476\n",
      "0.20429600000000003\n",
      "0.20616000000000004\n"
     ]
    },
    {
     "data": {
      "application/vnd.jupyter.widget-view+json": {
       "model_id": "49f8e1ece2f54249822be8b55cb8a5c0",
       "version_major": 2,
       "version_minor": 0
      },
      "text/plain": [
       "HBox(children=(IntProgress(value=0, max=10), HTML(value='')))"
      ]
     },
     "metadata": {},
     "output_type": "display_data"
    },
    {
     "name": "stdout",
     "output_type": "stream",
     "text": [
      "0.205636\n",
      "0.204188\n",
      "0.20512\n",
      "0.206632\n",
      "0.20613599999999999\n",
      "0.20624\n",
      "0.204128\n",
      "0.204852\n",
      "0.20345999999999997\n",
      "0.20642000000000002\n"
     ]
    },
    {
     "data": {
      "application/vnd.jupyter.widget-view+json": {
       "model_id": "281d2a2d86554fe99df23b7d49d79552",
       "version_major": 2,
       "version_minor": 0
      },
      "text/plain": [
       "HBox(children=(IntProgress(value=0, max=10), HTML(value='')))"
      ]
     },
     "metadata": {},
     "output_type": "display_data"
    },
    {
     "name": "stdout",
     "output_type": "stream",
     "text": [
      "0.23244800000000002\n",
      "0.23231200000000002\n",
      "0.23502800000000001\n",
      "0.23093200000000003\n",
      "0.23510399999999998\n",
      "0.23044\n",
      "0.233208\n",
      "0.23298000000000002\n",
      "0.228672\n",
      "0.231484\n"
     ]
    },
    {
     "data": {
      "application/vnd.jupyter.widget-view+json": {
       "model_id": "9e37d35021004ab58257bf4a0145f662",
       "version_major": 2,
       "version_minor": 0
      },
      "text/plain": [
       "HBox(children=(IntProgress(value=0, max=10), HTML(value='')))"
      ]
     },
     "metadata": {},
     "output_type": "display_data"
    },
    {
     "name": "stdout",
     "output_type": "stream",
     "text": [
      "0.25896\n",
      "0.25012\n",
      "0.22290400000000002\n",
      "0.23610400000000004\n",
      "0.23142000000000001\n",
      "0.219812\n",
      "0.238456\n",
      "0.267504\n",
      "0.24765600000000004\n",
      "0.2502\n"
     ]
    },
    {
     "data": {
      "application/vnd.jupyter.widget-view+json": {
       "model_id": "b2d53eb0814948ebb14f8bca17676ee6",
       "version_major": 2,
       "version_minor": 0
      },
      "text/plain": [
       "HBox(children=(IntProgress(value=0, max=10), HTML(value='')))"
      ]
     },
     "metadata": {},
     "output_type": "display_data"
    },
    {
     "name": "stdout",
     "output_type": "stream",
     "text": [
      "0.5991839999999999\n",
      "0.6011479999999999\n",
      "0.601456\n",
      "0.601144\n",
      "0.5992999999999999\n",
      "0.600684\n",
      "0.5997319999999999\n",
      "0.599872\n",
      "0.5995\n",
      "0.599156\n"
     ]
    },
    {
     "data": {
      "application/vnd.jupyter.widget-view+json": {
       "model_id": "1518aabbeb5e4d6dbab11d8284590be4",
       "version_major": 2,
       "version_minor": 0
      },
      "text/plain": [
       "HBox(children=(IntProgress(value=0, max=8), HTML(value='')))"
      ]
     },
     "metadata": {},
     "output_type": "display_data"
    },
    {
     "data": {
      "application/vnd.jupyter.widget-view+json": {
       "model_id": "df3b0d9912264f54b5672bd724d8f674",
       "version_major": 2,
       "version_minor": 0
      },
      "text/plain": [
       "HBox(children=(IntProgress(value=0, max=10), HTML(value='')))"
      ]
     },
     "metadata": {},
     "output_type": "display_data"
    },
    {
     "name": "stdout",
     "output_type": "stream",
     "text": [
      "0.20438800000000001\n",
      "0.204488\n",
      "0.20856400000000003\n",
      "0.20083600000000001\n",
      "0.211348\n",
      "0.20831600000000003\n",
      "0.20456\n",
      "0.206352\n",
      "0.204844\n",
      "0.20318\n"
     ]
    },
    {
     "data": {
      "application/vnd.jupyter.widget-view+json": {
       "model_id": "32dd381912c7478e99ed0b3c8f879a55",
       "version_major": 2,
       "version_minor": 0
      },
      "text/plain": [
       "HBox(children=(IntProgress(value=0, max=10), HTML(value='')))"
      ]
     },
     "metadata": {},
     "output_type": "display_data"
    },
    {
     "name": "stdout",
     "output_type": "stream",
     "text": [
      "0.20500400000000002\n",
      "0.204976\n",
      "0.207216\n",
      "0.203272\n",
      "0.20278800000000002\n",
      "0.204908\n",
      "0.20214400000000002\n",
      "0.202576\n",
      "0.20735200000000004\n",
      "0.20517600000000003\n"
     ]
    },
    {
     "data": {
      "application/vnd.jupyter.widget-view+json": {
       "model_id": "496bf32026ac4f4fbd7ae5b3d4235911",
       "version_major": 2,
       "version_minor": 0
      },
      "text/plain": [
       "HBox(children=(IntProgress(value=0, max=10), HTML(value='')))"
      ]
     },
     "metadata": {},
     "output_type": "display_data"
    },
    {
     "name": "stdout",
     "output_type": "stream",
     "text": [
      "0.2075\n",
      "0.206156\n",
      "0.204988\n",
      "0.20348800000000003\n",
      "0.20420000000000002\n",
      "0.20350800000000002\n",
      "0.20457999999999998\n",
      "0.20122\n",
      "0.20101999999999998\n",
      "0.204876\n"
     ]
    },
    {
     "data": {
      "application/vnd.jupyter.widget-view+json": {
       "model_id": "4dbafc67cfd54d7fa8ce105eae5f6cb8",
       "version_major": 2,
       "version_minor": 0
      },
      "text/plain": [
       "HBox(children=(IntProgress(value=0, max=10), HTML(value='')))"
      ]
     },
     "metadata": {},
     "output_type": "display_data"
    },
    {
     "name": "stdout",
     "output_type": "stream",
     "text": [
      "0.204264\n",
      "0.20628400000000002\n",
      "0.204748\n",
      "0.203844\n",
      "0.205096\n",
      "0.20569199999999999\n",
      "0.204904\n",
      "0.203628\n",
      "0.2045\n",
      "0.20445600000000003\n"
     ]
    },
    {
     "data": {
      "application/vnd.jupyter.widget-view+json": {
       "model_id": "8e25eef9a9be45ac930f440fc165ed62",
       "version_major": 2,
       "version_minor": 0
      },
      "text/plain": [
       "HBox(children=(IntProgress(value=0, max=10), HTML(value='')))"
      ]
     },
     "metadata": {},
     "output_type": "display_data"
    },
    {
     "name": "stdout",
     "output_type": "stream",
     "text": [
      "0.204096\n",
      "0.205632\n",
      "0.20459600000000003\n",
      "0.20512\n",
      "0.20595600000000003\n",
      "0.20460399999999998\n",
      "0.2033\n",
      "0.20544\n",
      "0.20486000000000001\n",
      "0.20427199999999998\n"
     ]
    },
    {
     "data": {
      "application/vnd.jupyter.widget-view+json": {
       "model_id": "7e0164bf9e2940b39aa4b9e501f875ac",
       "version_major": 2,
       "version_minor": 0
      },
      "text/plain": [
       "HBox(children=(IntProgress(value=0, max=10), HTML(value='')))"
      ]
     },
     "metadata": {},
     "output_type": "display_data"
    },
    {
     "name": "stdout",
     "output_type": "stream",
     "text": [
      "0.231964\n",
      "0.23189600000000002\n",
      "0.23015200000000002\n",
      "0.23424399999999998\n",
      "0.23374400000000004\n",
      "0.231576\n",
      "0.229816\n",
      "0.231112\n",
      "0.229552\n",
      "0.23218799999999998\n"
     ]
    },
    {
     "data": {
      "application/vnd.jupyter.widget-view+json": {
       "model_id": "ed3dde7e1cf04e6aa0ca706ef123a077",
       "version_major": 2,
       "version_minor": 0
      },
      "text/plain": [
       "HBox(children=(IntProgress(value=0, max=10), HTML(value='')))"
      ]
     },
     "metadata": {},
     "output_type": "display_data"
    },
    {
     "name": "stdout",
     "output_type": "stream",
     "text": [
      "0.224608\n",
      "0.228552\n",
      "0.22728399999999999\n",
      "0.22534\n",
      "0.242\n",
      "0.22916\n",
      "0.251636\n",
      "0.23788\n",
      "0.219776\n",
      "0.236688\n"
     ]
    },
    {
     "data": {
      "application/vnd.jupyter.widget-view+json": {
       "model_id": "84c28639e8444f689db52bbe79d9994e",
       "version_major": 2,
       "version_minor": 0
      },
      "text/plain": [
       "HBox(children=(IntProgress(value=0, max=10), HTML(value='')))"
      ]
     },
     "metadata": {},
     "output_type": "display_data"
    },
    {
     "name": "stdout",
     "output_type": "stream",
     "text": [
      "0.599464\n",
      "0.601288\n",
      "0.598144\n",
      "0.5993999999999999\n",
      "0.5997279999999999\n",
      "0.599452\n",
      "0.6002839999999999\n",
      "0.6011599999999998\n",
      "0.600592\n",
      "0.599132\n",
      "\n"
     ]
    }
   ],
   "source": [
    "times = np.unique(election.Poll_Closing)\n",
    "times = [6.5] + list(times)\n",
    "for model in tqdm_notebook(['dag','mrf']):\n",
    "    for time in tqdm_notebook(times):\n",
    "        swings = []\n",
    "        ecs = []\n",
    "        for i in tqdm_notebook(range(10)):\n",
    "            if model == 'dag':\n",
    "                swing, ec = pred_clinton_mcmc(mu_dag,sigma_dag,vars_dag,time)\n",
    "            elif model == 'mrf':\n",
    "                swing, ec = pred_clinton_mcmc(mu_mrf,sigma_mrf,vars_mrf,time)\n",
    "            title = 'data/{}_GW_{}.pkl'.format(model,time)\n",
    "            swings.append(swing)\n",
    "            ecs.append(ec)\n",
    "        ec = np.mean(ecs)\n",
    "        swing = pd.Series(np.array(swings).mean(0),index = swing.index)\n",
    "        with open(title, 'wb') as f:\n",
    "            pickle.dump((swing,ec), f)"
   ]
  },
  {
   "cell_type": "code",
   "execution_count": 12,
   "metadata": {},
   "outputs": [
    {
     "data": {
      "application/vnd.jupyter.widget-view+json": {
       "model_id": "ba24e1759a334065aa8ae7c3ed298ae4",
       "version_major": 2,
       "version_minor": 0
      },
      "text/plain": [
       "HBox(children=(IntProgress(value=0, max=2), HTML(value='')))"
      ]
     },
     "metadata": {},
     "output_type": "display_data"
    },
    {
     "data": {
      "application/vnd.jupyter.widget-view+json": {
       "model_id": "422ff4fd38104e48b836bbbc1f607ba6",
       "version_major": 2,
       "version_minor": 0
      },
      "text/plain": [
       "HBox(children=(IntProgress(value=0, max=8), HTML(value='')))"
      ]
     },
     "metadata": {},
     "output_type": "display_data"
    },
    {
     "data": {
      "application/vnd.jupyter.widget-view+json": {
       "model_id": "49645a6a744c40e191812e607710f743",
       "version_major": 2,
       "version_minor": 0
      },
      "text/plain": [
       "HBox(children=(IntProgress(value=0, max=10), HTML(value='')))"
      ]
     },
     "metadata": {},
     "output_type": "display_data"
    },
    {
     "name": "stdout",
     "output_type": "stream",
     "text": [
      "0.005\n",
      "0.0042\n",
      "0.0023\n",
      "0.0037\n",
      "0.0031\n",
      "0.0039\n",
      "0.0035\n",
      "0.0032\n",
      "0.0022\n",
      "0.0028\n"
     ]
    },
    {
     "data": {
      "application/vnd.jupyter.widget-view+json": {
       "model_id": "e96562e14d9b41319c5aa9f963c3de8d",
       "version_major": 2,
       "version_minor": 0
      },
      "text/plain": [
       "HBox(children=(IntProgress(value=0, max=10), HTML(value='')))"
      ]
     },
     "metadata": {},
     "output_type": "display_data"
    },
    {
     "name": "stdout",
     "output_type": "stream",
     "text": [
      "0.0048\n",
      "0.0044\n",
      "0.0032\n",
      "0.0012\n",
      "0.0039\n",
      "0.0022\n",
      "0.0014\n",
      "0.003\n",
      "0.0027\n",
      "0.0038\n"
     ]
    },
    {
     "data": {
      "application/vnd.jupyter.widget-view+json": {
       "model_id": "9fa86a4e1044473984835188b918e4e4",
       "version_major": 2,
       "version_minor": 0
      },
      "text/plain": [
       "HBox(children=(IntProgress(value=0, max=10), HTML(value='')))"
      ]
     },
     "metadata": {},
     "output_type": "display_data"
    },
    {
     "name": "stdout",
     "output_type": "stream",
     "text": [
      "0.0029\n",
      "0.0023\n",
      "0.0025\n",
      "0.0026\n",
      "0.003\n",
      "0.0032\n",
      "0.0024\n",
      "0.006\n",
      "0.0034\n",
      "0.0031\n"
     ]
    },
    {
     "data": {
      "application/vnd.jupyter.widget-view+json": {
       "model_id": "5b929aad57784e68af0f38ce1012b676",
       "version_major": 2,
       "version_minor": 0
      },
      "text/plain": [
       "HBox(children=(IntProgress(value=0, max=10), HTML(value='')))"
      ]
     },
     "metadata": {},
     "output_type": "display_data"
    },
    {
     "name": "stdout",
     "output_type": "stream",
     "text": [
      "0.0116\n",
      "0.0078\n",
      "0.009\n",
      "0.0139\n",
      "0.006\n",
      "0.0153\n",
      "0.0103\n",
      "0.0091\n",
      "0.0089\n",
      "0.0116\n"
     ]
    },
    {
     "data": {
      "application/vnd.jupyter.widget-view+json": {
       "model_id": "4ba1bb2fd7ab4cec8090fea0c13b7913",
       "version_major": 2,
       "version_minor": 0
      },
      "text/plain": [
       "HBox(children=(IntProgress(value=0, max=10), HTML(value='')))"
      ]
     },
     "metadata": {},
     "output_type": "display_data"
    },
    {
     "name": "stdout",
     "output_type": "stream",
     "text": [
      "0.0118\n",
      "0.0101\n",
      "0.0099\n",
      "0.0112\n",
      "0.0149\n",
      "0.0088\n",
      "0.0083\n",
      "0.0132\n",
      "0.0072\n",
      "0.008\n"
     ]
    },
    {
     "data": {
      "application/vnd.jupyter.widget-view+json": {
       "model_id": "e2ef33b1c2c54bf0bd6fff49f45b791e",
       "version_major": 2,
       "version_minor": 0
      },
      "text/plain": [
       "HBox(children=(IntProgress(value=0, max=10), HTML(value='')))"
      ]
     },
     "metadata": {},
     "output_type": "display_data"
    },
    {
     "name": "stdout",
     "output_type": "stream",
     "text": [
      "0.0977\n",
      "0.0929\n",
      "0.0924\n",
      "0.1013\n",
      "0.0997\n",
      "0.0975\n",
      "0.0956\n",
      "0.0844\n",
      "0.095\n",
      "0.0992\n"
     ]
    },
    {
     "data": {
      "application/vnd.jupyter.widget-view+json": {
       "model_id": "928b062ac4b44820abbfafd959e7d423",
       "version_major": 2,
       "version_minor": 0
      },
      "text/plain": [
       "HBox(children=(IntProgress(value=0, max=10), HTML(value='')))"
      ]
     },
     "metadata": {},
     "output_type": "display_data"
    },
    {
     "name": "stdout",
     "output_type": "stream",
     "text": [
      "0.677\n",
      "0.6759\n",
      "0.6755\n",
      "0.6626\n",
      "0.6756\n",
      "0.6737\n",
      "0.67\n",
      "0.6743\n",
      "0.6779\n",
      "0.6665\n"
     ]
    },
    {
     "data": {
      "application/vnd.jupyter.widget-view+json": {
       "model_id": "e11342b0a9384013a6397a11c1f9db4f",
       "version_major": 2,
       "version_minor": 0
      },
      "text/plain": [
       "HBox(children=(IntProgress(value=0, max=10), HTML(value='')))"
      ]
     },
     "metadata": {},
     "output_type": "display_data"
    },
    {
     "name": "stdout",
     "output_type": "stream",
     "text": [
      "0.0\n",
      "0.0\n",
      "0.0\n",
      "0.0\n",
      "0.0\n",
      "0.0\n",
      "0.0\n",
      "0.0\n",
      "0.0\n",
      "0.0\n"
     ]
    },
    {
     "data": {
      "application/vnd.jupyter.widget-view+json": {
       "model_id": "b6a3a05c5cc04b6e8ad44266dd1c495a",
       "version_major": 2,
       "version_minor": 0
      },
      "text/plain": [
       "HBox(children=(IntProgress(value=0, max=8), HTML(value='')))"
      ]
     },
     "metadata": {},
     "output_type": "display_data"
    },
    {
     "data": {
      "application/vnd.jupyter.widget-view+json": {
       "model_id": "fda84a42dae344bfa79f04294d9098f2",
       "version_major": 2,
       "version_minor": 0
      },
      "text/plain": [
       "HBox(children=(IntProgress(value=0, max=10), HTML(value='')))"
      ]
     },
     "metadata": {},
     "output_type": "display_data"
    },
    {
     "name": "stdout",
     "output_type": "stream",
     "text": [
      "0.0048\n",
      "0.0049\n",
      "0.004\n",
      "0.0038\n",
      "0.0044\n",
      "0.0035\n",
      "0.0037\n",
      "0.0033\n",
      "0.0026\n",
      "0.0025\n"
     ]
    },
    {
     "data": {
      "application/vnd.jupyter.widget-view+json": {
       "model_id": "5c75a390618f4dcf94f49e95ea6f845a",
       "version_major": 2,
       "version_minor": 0
      },
      "text/plain": [
       "HBox(children=(IntProgress(value=0, max=10), HTML(value='')))"
      ]
     },
     "metadata": {},
     "output_type": "display_data"
    },
    {
     "name": "stdout",
     "output_type": "stream",
     "text": [
      "0.0027\n",
      "0.0021\n",
      "0.0043\n",
      "0.0035\n",
      "0.0029\n",
      "0.0033\n",
      "0.0025\n",
      "0.003\n",
      "0.0045\n",
      "0.0021\n"
     ]
    },
    {
     "data": {
      "application/vnd.jupyter.widget-view+json": {
       "model_id": "95d5a16d1e24407a9791eafb38b3f9ec",
       "version_major": 2,
       "version_minor": 0
      },
      "text/plain": [
       "HBox(children=(IntProgress(value=0, max=10), HTML(value='')))"
      ]
     },
     "metadata": {},
     "output_type": "display_data"
    },
    {
     "name": "stdout",
     "output_type": "stream",
     "text": [
      "0.0043\n",
      "0.0029\n",
      "0.0016\n",
      "0.0022\n",
      "0.0021\n",
      "0.0037\n",
      "0.0024\n",
      "0.0029\n",
      "0.0016\n",
      "0.0057\n"
     ]
    },
    {
     "data": {
      "application/vnd.jupyter.widget-view+json": {
       "model_id": "cab936e670ac4084bf7c502e39f5e868",
       "version_major": 2,
       "version_minor": 0
      },
      "text/plain": [
       "HBox(children=(IntProgress(value=0, max=10), HTML(value='')))"
      ]
     },
     "metadata": {},
     "output_type": "display_data"
    },
    {
     "name": "stdout",
     "output_type": "stream",
     "text": [
      "0.0088\n",
      "0.0095\n",
      "0.0096\n",
      "0.0131\n",
      "0.0093\n",
      "0.0058\n",
      "0.0122\n",
      "0.0065\n",
      "0.0127\n",
      "0.0096\n"
     ]
    },
    {
     "data": {
      "application/vnd.jupyter.widget-view+json": {
       "model_id": "24ea0d29d2894bce85ee961f40f61dad",
       "version_major": 2,
       "version_minor": 0
      },
      "text/plain": [
       "HBox(children=(IntProgress(value=0, max=10), HTML(value='')))"
      ]
     },
     "metadata": {},
     "output_type": "display_data"
    },
    {
     "name": "stdout",
     "output_type": "stream",
     "text": [
      "0.0119\n",
      "0.0114\n",
      "0.0173\n",
      "0.011\n",
      "0.0111\n",
      "0.0112\n",
      "0.0122\n",
      "0.0098\n",
      "0.012\n",
      "0.0143\n"
     ]
    },
    {
     "data": {
      "application/vnd.jupyter.widget-view+json": {
       "model_id": "c225a0d7e3e14a28b44db346c433cbf5",
       "version_major": 2,
       "version_minor": 0
      },
      "text/plain": [
       "HBox(children=(IntProgress(value=0, max=10), HTML(value='')))"
      ]
     },
     "metadata": {},
     "output_type": "display_data"
    },
    {
     "name": "stdout",
     "output_type": "stream",
     "text": [
      "0.0951\n",
      "0.0882\n",
      "0.0996\n",
      "0.0927\n",
      "0.0929\n",
      "0.0974\n",
      "0.0936\n",
      "0.0974\n",
      "0.0944\n",
      "0.1037\n"
     ]
    },
    {
     "data": {
      "application/vnd.jupyter.widget-view+json": {
       "model_id": "9245a6b736d74508a5bb6bea1ad37b6a",
       "version_major": 2,
       "version_minor": 0
      },
      "text/plain": [
       "HBox(children=(IntProgress(value=0, max=10), HTML(value='')))"
      ]
     },
     "metadata": {},
     "output_type": "display_data"
    },
    {
     "name": "stdout",
     "output_type": "stream",
     "text": [
      "0.6731\n",
      "0.6749\n",
      "0.6643\n",
      "0.6764\n",
      "0.673\n",
      "0.6764\n",
      "0.6701\n",
      "0.676\n",
      "0.6663\n",
      "0.6649\n"
     ]
    },
    {
     "data": {
      "application/vnd.jupyter.widget-view+json": {
       "model_id": "292b4a3f53d64cf498f82eaf6336d56f",
       "version_major": 2,
       "version_minor": 0
      },
      "text/plain": [
       "HBox(children=(IntProgress(value=0, max=10), HTML(value='')))"
      ]
     },
     "metadata": {},
     "output_type": "display_data"
    },
    {
     "name": "stdout",
     "output_type": "stream",
     "text": [
      "0.0\n",
      "0.0\n",
      "0.0\n",
      "0.0\n",
      "0.0\n",
      "0.0\n",
      "0.0\n",
      "0.0\n",
      "0.0\n",
      "0.0\n",
      "\n"
     ]
    }
   ],
   "source": [
    "for model in tqdm_notebook(['dag','mrf']):\n",
    "    for time in tqdm_notebook(times):\n",
    "        swings = []\n",
    "        ecs = []\n",
    "        for i in tqdm_notebook(range(10)):\n",
    "            if model == 'dag':\n",
    "                swing, ec = pred_clinton_mh(mu_dag,sigma_dag,vars_dag,time)\n",
    "            elif model == 'mrf':\n",
    "                swing, ec = pred_clinton_mh(mu_mrf,sigma_mrf,vars_mrf,time)\n",
    "            title = 'data/{}_MH_{}.pkl'.format(model,time)\n",
    "\n",
    "            swings.append(swing)\n",
    "            ecs.append(ec)\n",
    "        ec = np.mean(ecs)\n",
    "        swing = pd.Series(np.array(swings).mean(0),index = swing.index)\n",
    "        with open(title, 'wb') as f:\n",
    "            pickle.dump((swing,ec), f)"
   ]
  },
  {
   "cell_type": "code",
   "execution_count": null,
   "metadata": {},
   "outputs": [],
   "source": []
  }
 ],
 "metadata": {
  "kernelspec": {
   "display_name": "Python [conda env:Tutorial]",
   "language": "python",
   "name": "conda-env-Tutorial-py"
  },
  "language_info": {
   "codemirror_mode": {
    "name": "ipython",
    "version": 3
   },
   "file_extension": ".py",
   "mimetype": "text/x-python",
   "name": "python",
   "nbconvert_exporter": "python",
   "pygments_lexer": "ipython3",
   "version": "3.6.8"
  }
 },
 "nbformat": 4,
 "nbformat_minor": 2
}
