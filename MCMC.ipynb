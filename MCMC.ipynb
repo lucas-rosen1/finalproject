{
 "cells": [
  {
   "cell_type": "code",
   "execution_count": 1,
   "metadata": {},
   "outputs": [],
   "source": [
    "import pickle\n",
    "import pandas as pd\n",
    "import numpy as np\n",
    "from pgmpy.models import LinearGaussianBayesianNetwork\n",
    "from pgmpy.factors.continuous import LinearGaussianCPD\n",
    "from pgmpy.inference.ExactInference import BeliefPropagation\n",
    "from scipy.stats import multivariate_normal\n",
    "from pgmpy.factors.continuous import ContinuousFactor\n",
    "from pgmpy.models import BayesianModel\n",
    "import numpy.linalg as la\n",
    "import emcee\n",
    "from tqdm import tqdm_notebook"
   ]
  },
  {
   "cell_type": "code",
   "execution_count": 2,
   "metadata": {},
   "outputs": [],
   "source": [
    "## DAG\n",
    "\n",
    "PC_DAG = pd.read_csv('data/DAG_PC.csv',index_col = 'Unnamed: 0')\n",
    "with open('data/MLE_PC.pkl','rb') as f:\n",
    "    PC_MLE = pickle.load(f)\n",
    "    \n",
    "with open('data/means.pkl','rb') as f:\n",
    "    mean = pickle.load(f)\n",
    "    \n",
    "mean_ser = pd.Series(np.array(mean).mean(0), index = PC_DAG.columns)\n",
    "\n",
    "g = LinearGaussianBayesianNetwork()\n",
    "\n",
    "g.add_nodes_from(PC_DAG.columns)\n",
    "\n",
    "edges = [(PC_DAG.index[edge[0]], PC_DAG.columns[edge[1]]) for edge in np.argwhere(PC_DAG.values)]\n",
    "\n",
    "g.add_edges_from(edges)\n",
    "\n",
    "for factor in PC_MLE:\n",
    "    name = factor[0]\n",
    "    beta = factor[1]\n",
    "    var = factor[2]\n",
    "    pars = factor[3]\n",
    "    if len(pars)==0:\n",
    "        cpd = LinearGaussianCPD(name, [], var, pars)\n",
    "        cpd.beta_0 = mean_ser[name]\n",
    "        g.add_cpds(cpd)\n",
    "    else:\n",
    "        cpd = LinearGaussianCPD(name,  beta, var, pars)\n",
    "        cpd.beta_0 = mean_ser[name]\n",
    "        g.add_cpds(cpd)\n",
    "\n",
    "norm = g.to_joint_gaussian()"
   ]
  },
  {
   "cell_type": "code",
   "execution_count": 3,
   "metadata": {},
   "outputs": [],
   "source": [
    "# MRF\n",
    "mrf = pd.read_csv('data/MRF.csv',index_col = 'Unnamed: 0')\n",
    "sigma_mrf = la.inv(mrf.values)\n",
    "mu_mrf = np.array(mean).mean(0)\n",
    "vars_mrf = list(PC_DAG.columns)"
   ]
  },
  {
   "cell_type": "code",
   "execution_count": 4,
   "metadata": {},
   "outputs": [],
   "source": [
    "vars_dag = norm.variables\n",
    "mu_dag = pd.Series(mu_mrf,index=vars_mrf).reindex(vars_dag)\n",
    "sigma_dag = norm.covariance\n"
   ]
  },
  {
   "cell_type": "code",
   "execution_count": 5,
   "metadata": {},
   "outputs": [],
   "source": [
    "def lnprob(x, mu, cov,icov, conditions, vars = None):\n",
    "    for condition in conditions:\n",
    "        ind = vars.index(condition)\n",
    "        x[ind] = conditions[condition]\n",
    "    k = len(x)\n",
    "    diff = x-mu\n",
    "    term1 = np.log(la.det(cov))\n",
    "    term2 = np.dot(diff,np.dot(icov,diff))\n",
    "    term3 = k*np.log(2*np.pi)\n",
    "    return -1/2*(term1 + term2 + term3)"
   ]
  },
  {
   "cell_type": "code",
   "execution_count": 6,
   "metadata": {},
   "outputs": [],
   "source": [
    "def mcmc(mu,sigma,conditions,vars):\n",
    "    ndim = 51\n",
    "    nwalkers = 250\n",
    "    p0 = np.random.rand(ndim * nwalkers).reshape((nwalkers, ndim))\n",
    "    sampler = emcee.EnsembleSampler(nwalkers, ndim, lnprob, args=[mu,sigma, la.inv(sigma), conditions, vars])\n",
    "    pos, prob, state = sampler.run_mcmc(p0, 100)\n",
    "    sampler.reset()\n",
    "    sampler.run_mcmc(pos, 1000)\n",
    "    print(np.mean(sampler.acceptance_fraction))\n",
    "    return pd.Series(sampler.flatchain.mean(0),index = vars)\n",
    "\n",
    "def mh(mu,sigma,conditions,vars):\n",
    "    ndim = 51\n",
    "    nwalkers = 250\n",
    "    p0 = np.random.rand(ndim)\n",
    "    sampler = emcee.MHSampler(sigma, ndim, lnprob, args=[mu,sigma, la.inv(sigma), conditions, vars])\n",
    "    pos, prob, state = sampler.run_mcmc(p0, 1000)\n",
    "    sampler.reset()\n",
    "    sampler.run_mcmc(pos, 10000)\n",
    "    print(np.mean(sampler.acceptance_fraction))\n",
    "    return pd.Series(sampler.flatchain.mean(0),index = vars)\n",
    "    "
   ]
  },
  {
   "cell_type": "code",
   "execution_count": 7,
   "metadata": {},
   "outputs": [],
   "source": [
    "election = pd.read_csv('data/results.csv',index_col='State')\n",
    "temp = list(election.index)\n",
    "\n",
    "temp[-1] = 'District of Columbia'\n",
    "election.index = temp"
   ]
  },
  {
   "cell_type": "code",
   "execution_count": 8,
   "metadata": {},
   "outputs": [],
   "source": [
    "def pred_clinton_mcmc(mu,sigma,vars,time = 6.5):\n",
    "    evidence = election[election.Poll_Closing <= time].Clinton.to_dict()\n",
    "    vote_perc = mcmc(mu_dag, sigma_dag, evidence,vars_dag)\n",
    "    clinton_win = (vote_perc>.50).astype(int).reindex(election.index)\n",
    "    return vote_perc.loc[['Florida','Michigan','Pennsylvania','Wisconsin']], (clinton_win*election['number of votes']).sum()"
   ]
  },
  {
   "cell_type": "code",
   "execution_count": 9,
   "metadata": {},
   "outputs": [],
   "source": [
    "def pred_clinton_mh(mu,sigma,vars,time = 6.5):\n",
    "    evidence = election[election.Poll_Closing <= time].Clinton.to_dict()\n",
    "    vote_perc = mh(mu_dag, sigma_dag, evidence,vars_dag)\n",
    "    clinton_win = (vote_perc>.50).astype(int).reindex(election.index)\n",
    "    return vote_perc.loc[['Florida','Michigan','Pennsylvania','Wisconsin']], (clinton_win*election['number of votes']).sum()"
   ]
  },
  {
   "cell_type": "code",
   "execution_count": 11,
   "metadata": {},
   "outputs": [
    {
     "data": {
      "application/vnd.jupyter.widget-view+json": {
       "model_id": "f0a69d86e5364a3d8eaf1aa00b5df97e",
       "version_major": 2,
       "version_minor": 0
      },
      "text/plain": [
       "HBox(children=(IntProgress(value=0, max=1), HTML(value='')))"
      ]
     },
     "metadata": {},
     "output_type": "display_data"
    },
    {
     "data": {
      "application/vnd.jupyter.widget-view+json": {
       "model_id": "8db635ecfa6a4d2b9995f2d4a9f8c623",
       "version_major": 2,
       "version_minor": 0
      },
      "text/plain": [
       "HBox(children=(IntProgress(value=0, max=8), HTML(value='')))"
      ]
     },
     "metadata": {},
     "output_type": "display_data"
    },
    {
     "data": {
      "application/vnd.jupyter.widget-view+json": {
       "model_id": "74727d44737649b3ad6ab4b6d5f95b5e",
       "version_major": 2,
       "version_minor": 0
      },
      "text/plain": [
       "HBox(children=(IntProgress(value=0, max=10), HTML(value='')))"
      ]
     },
     "metadata": {},
     "output_type": "display_data"
    },
    {
     "name": "stdout",
     "output_type": "stream",
     "text": [
      "0.203232\n",
      "0.20196799999999998\n",
      "0.202888\n",
      "0.20445600000000003\n",
      "0.203408\n",
      "0.207488\n",
      "0.20246\n",
      "0.20386400000000002\n",
      "0.20257600000000003\n",
      "0.20518\n"
     ]
    },
    {
     "data": {
      "application/vnd.jupyter.widget-view+json": {
       "model_id": "7e822b7a2133438e8ed044957ee256d2",
       "version_major": 2,
       "version_minor": 0
      },
      "text/plain": [
       "HBox(children=(IntProgress(value=0, max=10), HTML(value='')))"
      ]
     },
     "metadata": {},
     "output_type": "display_data"
    },
    {
     "name": "stdout",
     "output_type": "stream",
     "text": [
      "0.20330400000000004\n",
      "0.20429200000000003\n",
      "0.20129600000000003\n",
      "0.20382800000000004\n",
      "0.207512\n",
      "0.200696\n",
      "0.20368\n",
      "0.20380800000000002\n",
      "0.202844\n",
      "0.20650400000000002\n"
     ]
    },
    {
     "data": {
      "application/vnd.jupyter.widget-view+json": {
       "model_id": "9639ca11be5442a4b1e4fbc9f113d4ba",
       "version_major": 2,
       "version_minor": 0
      },
      "text/plain": [
       "HBox(children=(IntProgress(value=0, max=10), HTML(value='')))"
      ]
     },
     "metadata": {},
     "output_type": "display_data"
    },
    {
     "name": "stdout",
     "output_type": "stream",
     "text": [
      "0.202256\n",
      "0.203024\n",
      "0.20262400000000003\n",
      "0.202052\n",
      "0.20024799999999998\n",
      "0.203012\n",
      "0.20579599999999998\n",
      "0.20213599999999998\n",
      "0.201828\n",
      "0.20521999999999999\n"
     ]
    },
    {
     "data": {
      "application/vnd.jupyter.widget-view+json": {
       "model_id": "6610b4c556b842c0ac71d473d5284486",
       "version_major": 2,
       "version_minor": 0
      },
      "text/plain": [
       "HBox(children=(IntProgress(value=0, max=10), HTML(value='')))"
      ]
     },
     "metadata": {},
     "output_type": "display_data"
    },
    {
     "name": "stdout",
     "output_type": "stream",
     "text": [
      "0.20439600000000002\n",
      "0.20416399999999998\n",
      "0.202972\n",
      "0.203768\n",
      "0.20542399999999997\n",
      "0.203904\n",
      "0.204492\n",
      "0.20402\n",
      "0.204912\n",
      "0.20384400000000003\n"
     ]
    },
    {
     "data": {
      "application/vnd.jupyter.widget-view+json": {
       "model_id": "e0c1b0c000164a568d03b59ce321035b",
       "version_major": 2,
       "version_minor": 0
      },
      "text/plain": [
       "HBox(children=(IntProgress(value=0, max=10), HTML(value='')))"
      ]
     },
     "metadata": {},
     "output_type": "display_data"
    },
    {
     "name": "stdout",
     "output_type": "stream",
     "text": [
      "0.20338\n",
      "0.20435200000000003\n",
      "0.204068\n",
      "0.20686000000000002\n",
      "0.20324\n",
      "0.20468\n",
      "0.20392000000000002\n",
      "0.20303200000000002\n",
      "0.203724\n",
      "0.204504\n"
     ]
    },
    {
     "data": {
      "application/vnd.jupyter.widget-view+json": {
       "model_id": "1c8ae824894947d5bbc70a7782af58a6",
       "version_major": 2,
       "version_minor": 0
      },
      "text/plain": [
       "HBox(children=(IntProgress(value=0, max=10), HTML(value='')))"
      ]
     },
     "metadata": {},
     "output_type": "display_data"
    },
    {
     "name": "stdout",
     "output_type": "stream",
     "text": [
      "0.2347\n",
      "0.23417600000000002\n",
      "0.231352\n",
      "0.232792\n",
      "0.23210000000000003\n",
      "0.23319600000000001\n",
      "0.23200800000000002\n",
      "0.23286400000000004\n",
      "0.231712\n",
      "0.23200800000000002\n"
     ]
    },
    {
     "data": {
      "application/vnd.jupyter.widget-view+json": {
       "model_id": "458f8645da054e118c41d64cb8a251e3",
       "version_major": 2,
       "version_minor": 0
      },
      "text/plain": [
       "HBox(children=(IntProgress(value=0, max=10), HTML(value='')))"
      ]
     },
     "metadata": {},
     "output_type": "display_data"
    },
    {
     "name": "stdout",
     "output_type": "stream",
     "text": [
      "0.21256799999999998\n",
      "0.241072\n",
      "0.23745600000000003\n",
      "0.242532\n",
      "0.22704400000000002\n",
      "0.211308\n",
      "0.229572\n",
      "0.21857200000000002\n",
      "0.21606000000000003\n",
      "0.23932\n"
     ]
    },
    {
     "data": {
      "application/vnd.jupyter.widget-view+json": {
       "model_id": "682c78a36c8547489bab09ec0bf8d5c5",
       "version_major": 2,
       "version_minor": 0
      },
      "text/plain": [
       "HBox(children=(IntProgress(value=0, max=10), HTML(value='')))"
      ]
     },
     "metadata": {},
     "output_type": "display_data"
    },
    {
     "name": "stdout",
     "output_type": "stream",
     "text": [
      "0.601012\n",
      "0.59848\n",
      "0.600692\n",
      "0.5994839999999999\n",
      "0.597668\n",
      "0.598136\n",
      "0.599296\n",
      "0.599932\n",
      "0.5991439999999999\n",
      "0.60042\n"
     ]
    }
   ],
   "source": [
    "times = np.unique(election.Poll_Closing)\n",
    "times = [6.5] + list(times)\n",
    "for model in tqdm_notebook(['dag','mrf']):\n",
    "    for time in tqdm_notebook(times):\n",
    "        swings = []\n",
    "        ecs = []\n",
    "        for i in tqdm_notebook(range(10)):\n",
    "            if model == 'dag':\n",
    "                swing, ec = pred_clinton_mcmc(mu_dag,sigma_dag,vars_dag,time)\n",
    "            elif model == 'mrf':\n",
    "                swing, ec = pred_clinton_mcmc(mu_mrf,sigma_mrf,vars_mrf,time)\n",
    "            title = 'data/{}_GW_{}.pkl'.format(model,time)\n",
    "            swings.append(swing)\n",
    "            ecs.append(ec)\n",
    "        ec = np.mean(ecs)\n",
    "        swing = pd.Series(np.array(swings).mean(0),index = swing.index)\n",
    "        with open(title, 'wb') as f:\n",
    "            pickle.dump((swing,ec), f)"
   ]
  },
  {
   "cell_type": "code",
   "execution_count": 12,
   "metadata": {},
   "outputs": [
    {
     "data": {
      "application/vnd.jupyter.widget-view+json": {
       "model_id": "6f8f173cd3aa49ac97b86b9612e744d6",
       "version_major": 2,
       "version_minor": 0
      },
      "text/plain": [
       "HBox(children=(IntProgress(value=0, max=2), HTML(value='')))"
      ]
     },
     "metadata": {},
     "output_type": "display_data"
    },
    {
     "data": {
      "application/vnd.jupyter.widget-view+json": {
       "model_id": "3f46998a01f4447fb3db4305389278d5",
       "version_major": 2,
       "version_minor": 0
      },
      "text/plain": [
       "HBox(children=(IntProgress(value=0, max=8), HTML(value='')))"
      ]
     },
     "metadata": {},
     "output_type": "display_data"
    },
    {
     "data": {
      "application/vnd.jupyter.widget-view+json": {
       "model_id": "820afe89be3447e4b82cda7316a4fe28",
       "version_major": 2,
       "version_minor": 0
      },
      "text/plain": [
       "HBox(children=(IntProgress(value=0, max=10), HTML(value='')))"
      ]
     },
     "metadata": {},
     "output_type": "display_data"
    },
    {
     "name": "stdout",
     "output_type": "stream",
     "text": [
      "0.0017\n",
      "0.0041\n",
      "0.0029\n",
      "0.0032\n",
      "0.0041\n",
      "0.0025\n",
      "0.0022\n",
      "0.0024\n",
      "0.0029\n",
      "0.0042\n"
     ]
    },
    {
     "data": {
      "application/vnd.jupyter.widget-view+json": {
       "model_id": "208864babe704e7b89cb76b1a5c1e5b5",
       "version_major": 2,
       "version_minor": 0
      },
      "text/plain": [
       "HBox(children=(IntProgress(value=0, max=10), HTML(value='')))"
      ]
     },
     "metadata": {},
     "output_type": "display_data"
    },
    {
     "name": "stdout",
     "output_type": "stream",
     "text": [
      "0.0029\n",
      "0.0017\n",
      "0.0042\n",
      "0.0021\n",
      "0.0042\n",
      "0.0023\n",
      "0.0021\n",
      "0.0034\n",
      "0.0046\n",
      "0.0046\n"
     ]
    },
    {
     "data": {
      "application/vnd.jupyter.widget-view+json": {
       "model_id": "969667cb3f8e4684bc02bd03edb28ee5",
       "version_major": 2,
       "version_minor": 0
      },
      "text/plain": [
       "HBox(children=(IntProgress(value=0, max=10), HTML(value='')))"
      ]
     },
     "metadata": {},
     "output_type": "display_data"
    },
    {
     "name": "stdout",
     "output_type": "stream",
     "text": [
      "0.0059\n",
      "0.0023\n",
      "0.0038\n",
      "0.0042\n",
      "0.0057\n",
      "0.0014\n",
      "0.0054\n",
      "0.0055\n",
      "0.0029\n",
      "0.0041\n"
     ]
    },
    {
     "data": {
      "application/vnd.jupyter.widget-view+json": {
       "model_id": "6e1548baf5f64325a296d1617eac8a5e",
       "version_major": 2,
       "version_minor": 0
      },
      "text/plain": [
       "HBox(children=(IntProgress(value=0, max=10), HTML(value='')))"
      ]
     },
     "metadata": {},
     "output_type": "display_data"
    },
    {
     "name": "stdout",
     "output_type": "stream",
     "text": [
      "0.0055\n",
      "0.011\n",
      "0.0146\n",
      "0.0076\n",
      "0.0127\n",
      "0.0096\n",
      "0.0112\n",
      "0.0067\n",
      "0.0055\n",
      "0.0102\n"
     ]
    },
    {
     "data": {
      "application/vnd.jupyter.widget-view+json": {
       "model_id": "230ac421683a4c4c9f66630e80ab2be0",
       "version_major": 2,
       "version_minor": 0
      },
      "text/plain": [
       "HBox(children=(IntProgress(value=0, max=10), HTML(value='')))"
      ]
     },
     "metadata": {},
     "output_type": "display_data"
    },
    {
     "name": "stdout",
     "output_type": "stream",
     "text": [
      "0.0134\n",
      "0.0123\n",
      "0.0107\n",
      "0.0097\n",
      "0.0106\n",
      "0.0077\n",
      "0.0132\n",
      "0.0113\n",
      "0.012\n",
      "0.0098\n"
     ]
    },
    {
     "data": {
      "application/vnd.jupyter.widget-view+json": {
       "model_id": "7541d6202b0a40f3a13199179940c29f",
       "version_major": 2,
       "version_minor": 0
      },
      "text/plain": [
       "HBox(children=(IntProgress(value=0, max=10), HTML(value='')))"
      ]
     },
     "metadata": {},
     "output_type": "display_data"
    },
    {
     "name": "stdout",
     "output_type": "stream",
     "text": [
      "0.0955\n",
      "0.0942\n",
      "0.0886\n",
      "0.0964\n",
      "0.0948\n",
      "0.0972\n",
      "0.0973\n",
      "0.0959\n",
      "0.0977\n",
      "0.0976\n"
     ]
    },
    {
     "data": {
      "application/vnd.jupyter.widget-view+json": {
       "model_id": "19da6ee495e749fba07e929276736bc9",
       "version_major": 2,
       "version_minor": 0
      },
      "text/plain": [
       "HBox(children=(IntProgress(value=0, max=10), HTML(value='')))"
      ]
     },
     "metadata": {},
     "output_type": "display_data"
    },
    {
     "name": "stdout",
     "output_type": "stream",
     "text": [
      "0.6716\n",
      "0.6797\n",
      "0.6653\n",
      "0.668\n",
      "0.668\n",
      "0.6712\n",
      "0.6787\n",
      "0.6753\n",
      "0.6729\n",
      "0.6774\n"
     ]
    },
    {
     "data": {
      "application/vnd.jupyter.widget-view+json": {
       "model_id": "c3c5ea676a4b410fb541a61569c64132",
       "version_major": 2,
       "version_minor": 0
      },
      "text/plain": [
       "HBox(children=(IntProgress(value=0, max=10), HTML(value='')))"
      ]
     },
     "metadata": {},
     "output_type": "display_data"
    },
    {
     "name": "stdout",
     "output_type": "stream",
     "text": [
      "0.0\n",
      "0.0\n",
      "0.0\n",
      "0.0\n",
      "0.0\n",
      "0.0\n",
      "0.0\n",
      "0.0\n",
      "0.0\n",
      "0.0\n"
     ]
    },
    {
     "data": {
      "application/vnd.jupyter.widget-view+json": {
       "model_id": "0922915e8b904023b7c494b71ac16a51",
       "version_major": 2,
       "version_minor": 0
      },
      "text/plain": [
       "HBox(children=(IntProgress(value=0, max=8), HTML(value='')))"
      ]
     },
     "metadata": {},
     "output_type": "display_data"
    },
    {
     "data": {
      "application/vnd.jupyter.widget-view+json": {
       "model_id": "7e85fc9942f5444d9de68d8b5b5fb6c1",
       "version_major": 2,
       "version_minor": 0
      },
      "text/plain": [
       "HBox(children=(IntProgress(value=0, max=10), HTML(value='')))"
      ]
     },
     "metadata": {},
     "output_type": "display_data"
    },
    {
     "name": "stdout",
     "output_type": "stream",
     "text": [
      "0.0017\n",
      "0.0042\n",
      "0.0032\n",
      "0.0017\n",
      "0.0035\n",
      "0.0028\n",
      "0.0036\n",
      "0.0033\n",
      "0.0034\n",
      "0.0035\n"
     ]
    },
    {
     "data": {
      "application/vnd.jupyter.widget-view+json": {
       "model_id": "b4935c15a14e4780852fef3658b591b2",
       "version_major": 2,
       "version_minor": 0
      },
      "text/plain": [
       "HBox(children=(IntProgress(value=0, max=10), HTML(value='')))"
      ]
     },
     "metadata": {},
     "output_type": "display_data"
    },
    {
     "name": "stdout",
     "output_type": "stream",
     "text": [
      "0.0036\n",
      "0.0028\n",
      "0.0027\n",
      "0.0038\n",
      "0.0024\n",
      "0.0043\n",
      "0.0046\n",
      "0.0037\n",
      "0.0009\n",
      "0.0017\n"
     ]
    },
    {
     "data": {
      "application/vnd.jupyter.widget-view+json": {
       "model_id": "9cc158cb91684260adf607516a95a86e",
       "version_major": 2,
       "version_minor": 0
      },
      "text/plain": [
       "HBox(children=(IntProgress(value=0, max=10), HTML(value='')))"
      ]
     },
     "metadata": {},
     "output_type": "display_data"
    },
    {
     "name": "stdout",
     "output_type": "stream",
     "text": [
      "0.0028\n",
      "0.0029\n",
      "0.0014\n",
      "0.0029\n",
      "0.0039\n",
      "0.0027\n",
      "0.0037\n",
      "0.0021\n",
      "0.0031\n",
      "0.0036\n"
     ]
    },
    {
     "data": {
      "application/vnd.jupyter.widget-view+json": {
       "model_id": "1850577dfb774f3a981ebefacf4b54d0",
       "version_major": 2,
       "version_minor": 0
      },
      "text/plain": [
       "HBox(children=(IntProgress(value=0, max=10), HTML(value='')))"
      ]
     },
     "metadata": {},
     "output_type": "display_data"
    },
    {
     "name": "stdout",
     "output_type": "stream",
     "text": [
      "0.0135\n",
      "0.0143\n",
      "0.0105\n",
      "0.0106\n",
      "0.0124\n",
      "0.0102\n",
      "0.0061\n",
      "0.0087\n",
      "0.0099\n",
      "0.0107\n"
     ]
    },
    {
     "data": {
      "application/vnd.jupyter.widget-view+json": {
       "model_id": "558d8d95974b46c6a57bd3e5c14ed9a3",
       "version_major": 2,
       "version_minor": 0
      },
      "text/plain": [
       "HBox(children=(IntProgress(value=0, max=10), HTML(value='')))"
      ]
     },
     "metadata": {},
     "output_type": "display_data"
    },
    {
     "name": "stdout",
     "output_type": "stream",
     "text": [
      "0.0125\n",
      "0.0116\n",
      "0.009\n",
      "0.0124\n",
      "0.0125\n",
      "0.0105\n",
      "0.0132\n",
      "0.0093\n",
      "0.014\n",
      "0.0064\n"
     ]
    },
    {
     "data": {
      "application/vnd.jupyter.widget-view+json": {
       "model_id": "2293ff91890b4ec88413c285201cd3e2",
       "version_major": 2,
       "version_minor": 0
      },
      "text/plain": [
       "HBox(children=(IntProgress(value=0, max=10), HTML(value='')))"
      ]
     },
     "metadata": {},
     "output_type": "display_data"
    },
    {
     "name": "stdout",
     "output_type": "stream",
     "text": [
      "0.0981\n",
      "0.0923\n",
      "0.0918\n",
      "0.1049\n",
      "0.1045\n",
      "0.0939\n",
      "0.0939\n",
      "0.0947\n",
      "0.0992\n",
      "0.097\n"
     ]
    },
    {
     "data": {
      "application/vnd.jupyter.widget-view+json": {
       "model_id": "24f0c4cdbd2048e4a82c5a303af152dd",
       "version_major": 2,
       "version_minor": 0
      },
      "text/plain": [
       "HBox(children=(IntProgress(value=0, max=10), HTML(value='')))"
      ]
     },
     "metadata": {},
     "output_type": "display_data"
    },
    {
     "name": "stdout",
     "output_type": "stream",
     "text": [
      "0.6661\n",
      "0.6707\n",
      "0.6746\n",
      "0.6641\n",
      "0.6739\n",
      "0.675\n",
      "0.6696\n",
      "0.6705\n",
      "0.6717\n",
      "0.6684\n"
     ]
    },
    {
     "data": {
      "application/vnd.jupyter.widget-view+json": {
       "model_id": "da4a02bac0a34fc48891b7fe83502793",
       "version_major": 2,
       "version_minor": 0
      },
      "text/plain": [
       "HBox(children=(IntProgress(value=0, max=10), HTML(value='')))"
      ]
     },
     "metadata": {},
     "output_type": "display_data"
    },
    {
     "name": "stdout",
     "output_type": "stream",
     "text": [
      "0.0\n",
      "0.0\n",
      "0.0\n",
      "0.0\n",
      "0.0\n",
      "0.0\n",
      "0.0\n",
      "0.0\n",
      "0.0\n",
      "0.0\n"
     ]
    }
   ],
   "source": [
    "for model in tqdm_notebook(['dag','mrf']):\n",
    "    for time in tqdm_notebook(times):\n",
    "        swings = []\n",
    "        ecs = []\n",
    "        for i in tqdm_notebook(range(10)):\n",
    "            if model == 'dag':\n",
    "                swing, ec = pred_clinton_mh(mu_dag,sigma_dag,vars_dag,time)\n",
    "            elif model == 'mrf':\n",
    "                swing, ec = pred_clinton_mh(mu_mrf,sigma_mrf,vars_mrf,time)\n",
    "            title = 'data/{}_MH_{}.pkl'.format(model,time)\n",
    "\n",
    "            swings.append(swing)\n",
    "            ecs.append(ec)\n",
    "        ec = np.mean(ecs)\n",
    "        swing = pd.Series(np.array(swings).mean(0),index = swing.index)\n",
    "        with open(title, 'wb') as f:\n",
    "            pickle.dump((swing,ec), f)"
   ]
  }
 ],
 "metadata": {
  "kernelspec": {
   "display_name": "Python [conda env:Tutorial]",
   "language": "python",
   "name": "conda-env-Tutorial-py"
  },
  "language_info": {
   "codemirror_mode": {
    "name": "ipython",
    "version": 3
   },
   "file_extension": ".py",
   "mimetype": "text/x-python",
   "name": "python",
   "nbconvert_exporter": "python",
   "pygments_lexer": "ipython3",
   "version": "3.6.8"
  }
 },
 "nbformat": 4,
 "nbformat_minor": 2
}
